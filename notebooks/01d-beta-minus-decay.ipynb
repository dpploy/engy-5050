{
 "cells": [
  {
   "cell_type": "markdown",
   "metadata": {},
   "source": [
    "Engy-5050: Nuclear Reactor Physics Spring 2022 UMass Lowell; Prof. V. F. de Almeida **19Jan22**\n",
    "\n",
    "# 01d. Nuclear Data Processing: $\\beta^{-1}$ Decay\n",
    "$  \n",
    "  \\newcommand{\\Amtrx}{\\boldsymbol{\\mathsf{A}}}\n",
    "  \\newcommand{\\Bmtrx}{\\boldsymbol{\\mathsf{B}}}\n",
    "  \\newcommand{\\Mmtrx}{\\boldsymbol{\\mathsf{M}}}\n",
    "  \\newcommand{\\Imtrx}{\\boldsymbol{\\mathsf{I}}}\n",
    "  \\newcommand{\\Pmtrx}{\\boldsymbol{\\mathsf{P}}}\n",
    "  \\newcommand{\\Lmtrx}{\\boldsymbol{\\mathsf{L}}}\n",
    "  \\newcommand{\\Umtrx}{\\boldsymbol{\\mathsf{U}}}\n",
    "  \\newcommand{\\Smtrx}{\\boldsymbol{\\mathsf{S}}}\n",
    "  \\newcommand{\\xvec}{\\boldsymbol{\\mathsf{x}}}\n",
    "  \\newcommand{\\uvar}{\\boldsymbol{u}}\n",
    "  \\newcommand{\\fvar}{\\boldsymbol{f}}\n",
    "  \\newcommand{\\avec}{\\boldsymbol{\\mathsf{a}}}\n",
    "  \\newcommand{\\bvec}{\\boldsymbol{\\mathsf{b}}}\n",
    "  \\newcommand{\\cvec}{\\boldsymbol{\\mathsf{c}}}\n",
    "  \\newcommand{\\rvec}{\\boldsymbol{\\mathsf{r}}}\n",
    "  \\newcommand{\\mvec}{\\boldsymbol{\\mathsf{m}}}\n",
    "  \\newcommand{\\gvec}{\\boldsymbol{\\mathsf{g}}}\n",
    "  \\newcommand{\\zerovec}{\\boldsymbol{\\mathsf{0}}}\n",
    "  \\newcommand{\\norm}[1]{\\bigl\\lVert{#1}\\bigr\\rVert}\n",
    "  \\newcommand{\\transpose}[1]{{#1}^\\top}\n",
    "  \\DeclareMathOperator{\\rank}{rank}\n",
    "  \\newcommand{\\Power}{\\mathcal{P}}\n",
    "$"
   ]
  },
  {
   "cell_type": "markdown",
   "metadata": {},
   "source": [
    "---\n",
    "## Table of Contents\n",
    "* [Objectives](#obj)\n",
    "* [Introduction](#intro)\n",
    "* [Beta decay example](#beta1)\n",
    "\n",
    "---"
   ]
  },
  {
   "cell_type": "markdown",
   "metadata": {},
   "source": [
    "## Objectives<a id=\"obj\"></a>\n",
    "+ Demonstrate how to obtain traceable nuclear data and have them available through the notebook for analysis and problem solving.\n",
    "+ Demonstrate how to obtain and understand data for $\\beta^-$ decay."
   ]
  },
  {
   "cell_type": "markdown",
   "metadata": {},
   "source": [
    "## Introduction<a id=\"intro\"></a>\n",
    "\n",
    "Refer to Notebook 01."
   ]
  },
  {
   "cell_type": "markdown",
   "metadata": {},
   "source": [
    "## $\\beta^-$ decay example<a id=\"beta1\"></a>\n",
    "This is an electron ejected from the nucleus by a neutron to proton transformation via several different nuclear transitions. The transformation is mediated by the weak nuclear forces. This disintegration is often followed by secondary phenomena accompanying the nuclear transition, *e.g.*, \n",
    " + internal bremsstrahlung photon energy (shared by the beta and anti-neutrino particles) due to a slowed down electron in the field of the nucleus,\n",
    " + internal ionization and excitation of the nucleus due to a sudden change of charge causes the emission of an orbital electron (an energy conversion electron).\n",
    " + the orbital vacancy is filled in by a cascade of electrons from higher orbital which leads to the emission of x-rays.\n",
    " + the energy of the vacancy is passed to higher orbital electrons and a valence electron is ejected called an Auger electron.\n",
    " \n",
    " Each one has a unique *endpoint energy*, the maximum kinetic energy of the electron or $\\beta^-$ particle.\n",
    "\n",
    "\\begin{equation*}\n",
    " ^{90}_{39}\\text{Y} \\overset{64.2\\,\\text{h}}{\\longrightarrow} \\ ^{90}_{40}\\text{Zr}^+ \\ + \\beta^- (^0_{-1}e) \\ +\\  \\ \\overline{\\nu}_e    ,\n",
    "\\end{equation*}\n",
    "\n",
    "+ Using the [decay radiation search site](https://www.nndc.bnl.gov/nudat2/indx_dec.jsp) search for $^{90}_{39}$Y.\n",
    "+ Use the standard style for uncertainty.\n",
    "+ On the window result look for the ground-state data set.\n",
    "+ View the HTML page source, copy the contents and paste into a Markdown cell below."
   ]
  },
  {
   "cell_type": "markdown",
   "metadata": {},
   "source": [
    "<p><u>Dataset #3:</u>\n",
    "<p><u>Author</u>:\n",
    "E. Browne&nbsp;&nbsp;\n",
    "<u>Citation</u>:Nuclear Data Sheets  82, 379 (1997)\n",
    "<p><table border=0 cellspacing=1 cellpadding=2 bgcolor=navy><tr><td align=center valign=center class=shead>Parent <br> Nucleus</td><td align=center valign=center class=shead>Parent <br> E(level)</td><td align=center valign=center class=shead>Parent <br> J&pi;</td><td align=center valign=center class=shead>Parent <br> T<sub>1/2</sub></td><td align=center valign=center class=shead>Decay Mode&nbsp;</td><td align=center valign=center class=shead>GS-GS Q-value <br> (keV) </td><td align=center valign=center class=shead>Daughter <br> Nucleus</td><td nowrap align=center rowspan=2 class=shead>&nbsp; </td><td nowrap align=center rowspan=2 class=shead>&nbsp; </td></tr>\n",
    "<tr><td nowrap align=center bgcolor=white><table border=0 cellspacing=0 cellpadding=0><tr><td class=su align=right>90<br>39</td><td>Y</td></tr></table></td><td nowrap align=center class=align bgcolor=white> &nbsp;0<i></i> &nbsp; </td><td nowrap align=center class=align bgcolor=white> &nbsp;2-&nbsp; </td><td nowrap align=center class=align bgcolor=white> &nbsp;64.00 h <i>0.21</i>&nbsp;&nbsp; </td><td nowrap align=center class=align bgcolor=white> &nbsp;&beta;<sup>-</sup>: 100 <i>  </i>  %&nbsp; </td><td nowrap align=center class=align bgcolor=white> &nbsp;2280.1&nbsp;<i>1.6&nbsp; </td><td nowrap align=center class=align bgcolor=white> &nbsp;<table border=0 cellspacing=0 cellpadding=0><tr><td class=su align=right>90<br>40</td><td>Zr</td></tr></table>&nbsp; </td></tr></table>\n",
    "<p><u>Beta-</u>:\n",
    "<p><table border=0 cellspacing=4 cellpadding=2>\n",
    "<tr>\n",
    "<td align=center class=align>Energy <br> (keV)</td>\n",
    "<td align=center class=align>End-point energy <br> (keV)</td>\n",
    "<td align=center class=align>Intensity <br> (%)</td>\n",
    "<td align=center class=align>Dose <br>( MeV/Bq-s )</td>\n",
    "</tr>\n",
    "<tr>\n",
    "<td align=center><hr color=\"#bfbfbf\" size=1 noshade></td>\n",
    "<td align=center><hr color=\"#bfbfbf\" size=1 noshade></td>\n",
    "<td align=center><hr color=\"#bfbfbf\" size=1 noshade></td>\n",
    "<td align=center><hr color=\"#bfbfbf\" size=1 noshade></td>\n",
    "</tr>\n",
    "<tr>\n",
    "<td nowrap align=left class=align>&nbsp;&nbsp;&nbsp;&nbsp;25.0 <i>0.7</i>&nbsp; </td>\n",
    "<td nowrap align=left class=align>&nbsp;&nbsp;&nbsp;93.8 <i>1.6</i>&nbsp;</td>\n",
    "<td nowrap align=left class=align>&nbsp;&nbsp;&nbsp;&nbsp;&nbsp;1.4E-6 % <i>0.3E-6</i>&nbsp;</td>\n",
    "<td nowrap align=left class=align>&nbsp;&nbsp;3.5E-10 <i>0.8E-10</i>&nbsp;</td>\n",
    "</tr>\n",
    "<tr>\n",
    "<td nowrap align=left class=align>&nbsp;&nbsp;&nbsp;185.6 <i>1</i>&nbsp; </td>\n",
    "<td nowrap align=left class=align>&nbsp;&nbsp;519.4 <i>1.6</i>&nbsp;</td>\n",
    "<td nowrap align=left class=align>&nbsp;&nbsp;&nbsp;&nbsp;&nbsp;0.0115 % <i>0.0014</i>&nbsp;</td>\n",
    "<td nowrap align=left class=align>&nbsp;&nbsp;2.1E-5 <i>0.3E-5</i>&nbsp;</td>\n",
    "</tr>\n",
    "<tr>\n",
    "<td nowrap align=left class=align>&nbsp;&nbsp;&nbsp;933.7 <i>1.2</i>&nbsp; </td>\n",
    "<td nowrap align=left class=align>&nbsp;2280.1 <i>1.6</i>&nbsp;</td>\n",
    "<td nowrap align=left class=align>&nbsp;&nbsp;&nbsp;&nbsp;99.9885 % <i>0.0014</i>&nbsp;</td>\n",
    "<td nowrap align=left class=align>&nbsp;&nbsp;0.9336 <i>0.0012</i>&nbsp;</td>\n",
    "</tr>\n",
    "</table>\n",
    "<p><br>"
   ]
  },
  {
   "cell_type": "code",
   "execution_count": null,
   "metadata": {},
   "outputs": [],
   "source": [
    "933.7 / 2280"
   ]
  },
  {
   "cell_type": "markdown",
   "metadata": {},
   "source": [
    "$\\left<E\\right> = 0.41\\,E^{(max)}$"
   ]
  },
  {
   "cell_type": "code",
   "execution_count": null,
   "metadata": {},
   "outputs": [],
   "source": []
  }
 ],
 "metadata": {
  "kernelspec": {
   "display_name": "Python 3 (ipykernel)",
   "language": "python",
   "name": "python3"
  },
  "language_info": {
   "codemirror_mode": {
    "name": "ipython",
    "version": 3
   },
   "file_extension": ".py",
   "mimetype": "text/x-python",
   "name": "python",
   "nbconvert_exporter": "python",
   "pygments_lexer": "ipython3",
   "version": "3.9.9"
  },
  "latex_envs": {
   "LaTeX_envs_menu_present": true,
   "autoclose": false,
   "autocomplete": true,
   "bibliofile": "biblio.bib",
   "cite_by": "apalike",
   "current_citInitial": 1,
   "eqLabelWithNumbers": true,
   "eqNumInitial": 1,
   "hotkeys": {
    "equation": "Ctrl-E",
    "itemize": "Ctrl-I"
   },
   "labels_anchors": false,
   "latex_user_defs": false,
   "report_style_numbering": false,
   "user_envs_cfg": false
  }
 },
 "nbformat": 4,
 "nbformat_minor": 2
}
