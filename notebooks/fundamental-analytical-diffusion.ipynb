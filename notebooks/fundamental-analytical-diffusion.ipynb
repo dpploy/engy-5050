{
 "cells": [
  {
   "cell_type": "markdown",
   "metadata": {},
   "source": [
    "Engy-5050 Spring 2024 UMass Lowell; Prof. V. F. de Almeida **08May2024**\n",
    "\n",
    "# Fundamental Analytical Neutron Diffusion\n",
    "$  \n",
    "  \\newcommand{\\Amtrx}{\\boldsymbol{\\mathsf{A}}}\n",
    "  \\newcommand{\\Bmtrx}{\\boldsymbol{\\mathsf{B}}}\n",
    "  \\newcommand{\\Mmtrx}{\\boldsymbol{\\mathsf{M}}}\n",
    "  \\newcommand{\\Imtrx}{\\boldsymbol{\\mathsf{I}}}\n",
    "  \\newcommand{\\Pmtrx}{\\boldsymbol{\\mathsf{P}}}\n",
    "  \\newcommand{\\Lmtrx}{\\boldsymbol{\\mathsf{L}}}\n",
    "  \\newcommand{\\Umtrx}{\\boldsymbol{\\mathsf{U}}}\n",
    "  \\newcommand{\\Smtrx}{\\boldsymbol{\\mathsf{S}}}\n",
    "  \\newcommand{\\xvec}{\\boldsymbol{\\mathsf{x}}}\n",
    "  \\newcommand{\\avec}{\\boldsymbol{\\mathsf{a}}}\n",
    "  \\newcommand{\\bvec}{\\boldsymbol{\\mathsf{b}}}\n",
    "  \\newcommand{\\cvec}{\\boldsymbol{\\mathsf{c}}}\n",
    "  \\newcommand{\\rvec}{\\boldsymbol{\\mathsf{r}}}\n",
    "  \\newcommand{\\fvec}{\\boldsymbol{\\mathsf{f}}}\n",
    "  \\newcommand{\\mvec}{\\boldsymbol{\\mathsf{m}}}\n",
    "  \\newcommand{\\gvec}{\\boldsymbol{\\mathsf{g}}}\n",
    "  \\newcommand{\\normal}{\\boldsymbol{n}}\n",
    "  \\newcommand{\\flux}{\\boldsymbol{q}}\n",
    "  \\newcommand{\\ihat}{\\hat{\\boldsymbol{i}}}\n",
    "  \\newcommand{\\zerovec}{\\boldsymbol{\\mathsf{0}}}\n",
    "  \\newcommand{\\norm}[1]{\\bigl\\lVert{#1}\\bigr\\rVert}\n",
    "  \\newcommand{\\transpose}[1]{{#1}^\\top}\n",
    "  \\DeclareMathOperator{\\rank}{rank}\n",
    "  \\newcommand{\\Reals}{\\mathbb{R}}\n",
    "  \\newcommand{\\thetavec}{\\boldsymbol{\\theta}}\n",
    "  \\newcommand{\\Ecal}{\\mathcal{E}}\n",
    "$"
   ]
  },
  {
   "cell_type": "markdown",
   "metadata": {},
   "source": [
    "There are fundamental problems in neutron diffusion that one needs to know. This notebook collects information on analytical solutions available for the *test* problems below. The electronic notebooks linked below describe numerical solutions to problems that should be familiar for those working with neutron diffusion. The statement of the problems should be used obtain analytical solutions. All of which will be found one way or another in the literature."
   ]
  },
  {
   "cell_type": "markdown",
   "metadata": {},
   "source": [
    "## Objectives\n",
    "\n",
    " + Solve the 1-D, Cartesian coordinates, neutron diffusion from a **plane source** problem using multiple (3) regions. See problem statement in [Notebook 02 - Neutron Diffusion from a Plane Source](https://nbviewer.org/github/dpploy/engy-5050/blob/main/notebooks/02-diff-plane-source.ipynb).\n",
    " + Solve the 1-D, spherical coordinates, neutron diffusion from a **point source** problem using two regions. See problem statement in [Notebook 03 - Neutron Diffusion from a Point Source](https://nbviewer.org/github/dpploy/engy-5050/blob/main/notebooks/03-diff-point-source.ipynb).\n",
    " + Solve the 1-D, cylindrical coordinates, neutron diffusion from a **line source** problem using two regions. See problem statement in [Notebook 04 - Neutron Diffusion from a Point Source](https://nbviewer.org/github/dpploy/engy-5050/blob/main/notebooks/04-diff-line-source.ipynb).\n",
    " \n",
    " <br>\n",
    " \n",
    " + Solve the 1-D, Cartesian coordinates, neutron diffusion from a **slab source** problem using two regions. See problem statement in [Notebook 05 - Neutron Diffusion from a Slab Source w/ Reflector](https://nbviewer.org/github/dpploy/engy-5050/blob/main/notebooks/05-slab-reflected-diff.ipynb).\n",
    " + Solve the 1-D, spherical coordinates, neutron diffusion from a **sphere source** problem using two regions. See problem statement in [Notebook 05 - Neutron Diffusion from a Sphere Source w/ Reflector](https://nbviewer.org/github/dpploy/engy-5050/blob/main/notebooks/05-sph-reflected-diff.ipynb).\n",
    "  + Solve the 1-D, spherical coordinates, neutron diffusion from a **cylindrical source** problem using two regions. See problem statement in [Notebook 05 - Neutron Diffusion from a Cylindrical Source w/ Reflector](not available yet; see Notebook 04).\n",
    "  \n",
    "  <br>\n",
    "  \n",
    "  + Solve the 1-D, Cartesian coordinates, bare **fuel slab** criticality problem. See problem statement in [Notebook 08 - Bare Fuel Slab Criticality](https://nbviewer.org/github/dpploy/engy-5050/blob/main/notebooks/08-critical-bare-fuel-cyl.ipynb).\n",
    "  + Solve the 1-D, Cartesian coordinates, bare **fuel sphere** criticality problem. See problem statement in [Notebook 08 - Bare Fuel Sphere Criticality](not available yet; see Notebook 08 for cylinder geometry).\n",
    "  + Solve the 1-D, Cartesian coordinates, bare **fuel cylinder** criticality problem. See problem statement in [Notebook 08 - Bare Fuel Cylinder Criticality](https://nbviewer.org/github/dpploy/engy-5050/blob/main/notebooks/08-critical-bare-fuel-slab.ipynb)."
   ]
  }
 ],
 "metadata": {
  "kernelspec": {
   "display_name": "Python 3 (ipykernel)",
   "language": "python",
   "name": "python3"
  },
  "language_info": {
   "codemirror_mode": {
    "name": "ipython",
    "version": 3
   },
   "file_extension": ".py",
   "mimetype": "text/x-python",
   "name": "python",
   "nbconvert_exporter": "python",
   "pygments_lexer": "ipython3",
   "version": "3.11.9"
  },
  "latex_envs": {
   "LaTeX_envs_menu_present": true,
   "autoclose": false,
   "autocomplete": true,
   "bibliofile": "biblio.bib",
   "cite_by": "apalike",
   "current_citInitial": 1,
   "eqLabelWithNumbers": true,
   "eqNumInitial": 1,
   "hotkeys": {
    "equation": "Ctrl-E",
    "itemize": "Ctrl-I"
   },
   "labels_anchors": false,
   "latex_user_defs": false,
   "report_style_numbering": false,
   "user_envs_cfg": false
  }
 },
 "nbformat": 4,
 "nbformat_minor": 2
}
