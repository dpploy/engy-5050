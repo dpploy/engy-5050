{
 "cells": [
  {
   "cell_type": "markdown",
   "metadata": {},
   "source": [
    "Engy-5050: Nuclear Reactor Physics Spring 2022 UMass Lowell; Prof. V. F. de Almeida **19Jan22**\n",
    "\n",
    "# 01a. Nuclear Data Processing: Prompt Fission Product Yields \n",
    "$  \n",
    "  \\newcommand{\\Amtrx}{\\boldsymbol{\\mathsf{A}}}\n",
    "  \\newcommand{\\Bmtrx}{\\boldsymbol{\\mathsf{B}}}\n",
    "  \\newcommand{\\Mmtrx}{\\boldsymbol{\\mathsf{M}}}\n",
    "  \\newcommand{\\Imtrx}{\\boldsymbol{\\mathsf{I}}}\n",
    "  \\newcommand{\\Pmtrx}{\\boldsymbol{\\mathsf{P}}}\n",
    "  \\newcommand{\\Lmtrx}{\\boldsymbol{\\mathsf{L}}}\n",
    "  \\newcommand{\\Umtrx}{\\boldsymbol{\\mathsf{U}}}\n",
    "  \\newcommand{\\Smtrx}{\\boldsymbol{\\mathsf{S}}}\n",
    "  \\newcommand{\\xvec}{\\boldsymbol{\\mathsf{x}}}\n",
    "  \\newcommand{\\avec}{\\boldsymbol{\\mathsf{a}}}\n",
    "  \\newcommand{\\bvec}{\\boldsymbol{\\mathsf{b}}}\n",
    "  \\newcommand{\\cvec}{\\boldsymbol{\\mathsf{c}}}\n",
    "  \\newcommand{\\rvec}{\\boldsymbol{\\mathsf{r}}}\n",
    "  \\newcommand{\\mvec}{\\boldsymbol{\\mathsf{m}}}\n",
    "  \\newcommand{\\gvec}{\\boldsymbol{\\mathsf{g}}}\n",
    "  \\newcommand{\\zerovec}{\\boldsymbol{\\mathsf{0}}}\n",
    "  \\newcommand{\\norm}[1]{\\bigl\\lVert{#1}\\bigr\\rVert}\n",
    "  \\newcommand{\\abs}[1]{\\left\\lvert{#1}\\right\\rvert}\n",
    "  \\newcommand{\\transpose}[1]{{#1}^\\top}\n",
    "  \\DeclareMathOperator{\\rank}{rank}\n",
    "$"
   ]
  },
  {
   "cell_type": "markdown",
   "metadata": {},
   "source": [
    "---\n",
    "## Table of Contents\n",
    "* [Objectives](#obj)\n",
    "* [Introduction](#intro)\n",
    "* [Independent fission fragment yield (A)](#iffya)\n",
    "* [Independent fission fragment yield (A,Z)](#iffyaz)\n",
    "---"
   ]
  },
  {
   "cell_type": "markdown",
   "metadata": {
    "heading_collapsed": true
   },
   "source": [
    "## Objectives<a id=\"obj\"></a>\n",
    "+ Demonstrate how to obtain traceable fission product nuclear data and have them available through the notebook for analysis and problem solving.\n",
    "+ Demonstrate how to obtain average values for various quantities related to fission products yield."
   ]
  },
  {
   "cell_type": "markdown",
   "metadata": {
    "heading_collapsed": true
   },
   "source": [
    "## Introduction<a id=\"intro\"></a>\n",
    "\n",
    "Refer to Notebook 01."
   ]
  },
  {
   "cell_type": "markdown",
   "metadata": {},
   "source": [
    "## Independent fission fragment yield (A)<a id=\"iffya\"></a>\n",
    "\n",
    "Acquiring the data:\n",
    "\n",
    "+ Using the [ENDF](https://www.nndc.bnl.gov/exfor/endf00.jsp) help tab, look for an existing example. In this case follow the `Example 9: 235U, individual and cumulative fission product yields, US library, numerical values`. \n",
    "+ Use the *extended retrieval tab* and provide the input: `Target=u-235, Sub-library (Projectile) = *fpy* and Library=ENDF/B-VII.0`. \n",
    "+ In the new window, select the library and click on `FPY(A)`. \n",
    "+ Select the *independent* (prompt) thermal neutron fission product yield data `FPYI,U-235,ENDF/B-VIII.0,Ei=0.0253eV` and `Repaint` the plot.\n",
    "+ Click on `See: plotted data`.\n",
    "+ Use the browser save option to create a file with the raw data: `u-235-ifpy-A-thermal.dat`.\n",
    "\n",
    "**Note:** \n",
    "\n",
    "    The independent yields mean expected numbers of each produced nuclide at the moment that fission is occured. The total expected number is just 2 if fission was only 2-body fission, however, the number is a bit larger than 2 because actual fission yield data has included light nuclides produced by 3-body fission.  "
   ]
  },
  {
   "cell_type": "code",
   "execution_count": 1,
   "metadata": {
    "ExecuteTime": {
     "end_time": "2022-01-19T23:13:01.639278Z",
     "start_time": "2022-01-19T23:13:01.229474Z"
    },
    "code_folding": [],
    "scrolled": true
   },
   "outputs": [
    {
     "name": "stdout",
     "output_type": "stream",
     "text": [
      "#ZVView-data-copy:   4-Feb-2019 09:37:32\n",
      "#=======================================\n",
      "#\n",
      "#name:   FPYI,U-235,ENDF/B-VIII.0,Ei=0.0253eV\n",
      "#X.axis: A\n",
      "#Y.axis: Fission Product Yield\n",
      "#wdata:  3\n",
      "#ldata:  107\n",
      "#data...\n",
      "#            X            Y         +-dY\n",
      "#       NO-DIM       PC/FIS       PC/FIS\n",
      "            66  7.22115e-10  4.62154e-10\n",
      "            67   3.60581e-9   2.30772e-9\n",
      "...\n",
      "           170  5.00653e-11  3.20418e-11\n",
      "           171  2.34703e-11   1.5021e-11\n",
      "           172  7.68675e-12  4.91952e-12\n"
     ]
    }
   ],
   "source": [
    "'''View the raw data'''\n",
    "\n",
    "!head -n 13 data/u-235-ifpy-A-thermal.dat\n",
    "print('...')\n",
    "!tail -n 3 data/u-235-ifpy-A-thermal.dat"
   ]
  },
  {
   "cell_type": "markdown",
   "metadata": {},
   "source": [
    "Importing tabular data using [Pandas documentation](https://pandas.pydata.org/) and visualizing the data using [Matplotlib](https://matplotlib.org/). Also consult [ChEn-3170](https://github.com/dpploy/chen-3170)."
   ]
  },
  {
   "cell_type": "code",
   "execution_count": 2,
   "metadata": {
    "ExecuteTime": {
     "end_time": "2022-01-19T23:14:14.134547Z",
     "start_time": "2022-01-19T23:14:14.128439Z"
    },
    "code_folding": [
     2,
     8
    ]
   },
   "outputs": [],
   "source": [
    "'''Function to read the blank-spaced column data into a Pandas data frame (table)'''\n",
    "\n",
    "def read_table(filename):\n",
    "    '''\n",
    "    Read table data into a `pandas` data frame (table).  \n",
    "    \n",
    "    Parameters\n",
    "    ----------\n",
    "    file_name: str, required\n",
    "        File name and its path relative to this notebook.\n",
    "    \n",
    "    Returns\n",
    "    -------\n",
    "    df: pandas.df\n",
    "        `Pandas` data frame (table) with Independent FP yield in percentage.\n",
    "\n",
    "    Examples\n",
    "    --------\n",
    "    '''\n",
    "    \n",
    "    import pandas as pd\n",
    "\n",
    "    # build a \"data frame (i.e. table)\"\n",
    "    df = pd.read_csv( filename, \n",
    "                      names=['A','FP Yield','Uncertainty'], \n",
    "                      skiprows=11,\n",
    "                      delim_whitespace=True)\n",
    "    \n",
    "    print('Sum of yield values in data file = ',round(sum(df['FP Yield']),2))\n",
    "    \n",
    "    # Convert normalized \"mass fraction\" yield to percentage\n",
    "    # This is equivalent to set the independent FP yield to the number of \n",
    "    # fragments obtained after 100 fissions occur; a total of ~200 fragments.\n",
    "    df['FP Yield']    *= 100.0\n",
    "    df['Uncertainty'] *= 100.0\n",
    "\n",
    "    return df"
   ]
  },
  {
   "cell_type": "code",
   "execution_count": 3,
   "metadata": {
    "ExecuteTime": {
     "end_time": "2022-01-19T23:14:20.895576Z",
     "start_time": "2022-01-19T23:14:15.696904Z"
    }
   },
   "outputs": [
    {
     "name": "stdout",
     "output_type": "stream",
     "text": [
      "Sum of yield values in data file =  2.0\n",
      "Sum of yield values in data frame =  200.0\n"
     ]
    }
   ],
   "source": [
    "'''Import data into a Pandas data frame (table)'''\n",
    "\n",
    "ifpy_df = read_table('data/u-235-ifpy-A-thermal.dat')\n",
    "print('Sum of yield values in data frame = ',round(sum(ifpy_df['FP Yield']),2))"
   ]
  },
  {
   "cell_type": "code",
   "execution_count": 4,
   "metadata": {
    "ExecuteTime": {
     "end_time": "2022-01-19T23:14:25.152778Z",
     "start_time": "2022-01-19T23:14:25.146063Z"
    },
    "code_folding": [
     2
    ]
   },
   "outputs": [],
   "source": [
    "'''Plot function for nuclides fission products'''\n",
    "\n",
    "def plot_fp_yield( df ):\n",
    "    '''\n",
    "    Read table data into a `pandas` data frame (table).  \n",
    "    \n",
    "    Parameters\n",
    "    ----------\n",
    "    file_name: str, required\n",
    "        File name and its path relative to this notebook.\n",
    "    \n",
    "    Returns\n",
    "    -------\n",
    "    df: pandas.df\n",
    "        `Pandas` data frame (table).\n",
    "\n",
    "    Examples\n",
    "    --------\n",
    "    '''\n",
    "\n",
    "    import matplotlib.pyplot as plt\n",
    "    plt.figure(1, figsize=(8, 6))\n",
    " \n",
    "    plt.errorbar(df['A'], df['FP Yield'], yerr=df['Uncertainty'],\n",
    "                 fmt='ok',ecolor='r',label='experimental (ENDF/B-VIII.0)',capsize=3)\n",
    "    \n",
    "    plt.xlabel(r'A',fontsize=18)\n",
    "    plt.ylabel(r'Prompt Fission Product Yield [%]',fontsize=18)\n",
    "    plt.title(r'Asymmetrical Fission of $^{235}_{92}$U (E=0.0253 eV)',fontsize=20)\n",
    "    plt.legend(loc='best',fontsize=12)\n",
    "    plt.xticks(fontsize=16)\n",
    "    plt.yticks(fontsize=16)\n",
    "    #plt.yscale('log') # uncomment to plot y in log scale\n",
    "    \n",
    "    plt.grid(True)\n",
    "    plt.show()\n",
    "    print('')"
   ]
  },
  {
   "cell_type": "code",
   "execution_count": 5,
   "metadata": {
    "ExecuteTime": {
     "end_time": "2022-01-19T23:14:28.041214Z",
     "start_time": "2022-01-19T23:14:27.175275Z"
    }
   },
   "outputs": [
    {
     "data": {
      "image/png": "[encoded data removed]",
      "text/plain": [
       "<Figure size 576x432 with 1 Axes>"
      ]
     },
     "metadata": {
      "needs_background": "light"
     },
     "output_type": "display_data"
    },
    {
     "name": "stdout",
     "output_type": "stream",
     "text": [
      "\n"
     ]
    }
   ],
   "source": [
    "'''Plot imported data'''\n",
    "\n",
    "plot_fp_yield( ifpy_df )"
   ]
  },
  {
   "cell_type": "markdown",
   "metadata": {},
   "source": [
    "We want an analytical function for the FP yield as a function of the mass number:\n",
    "\n",
    "\\begin{equation*}\n",
    "y(A)\n",
    "\\end{equation*}\n",
    "\n",
    "that fits the experimental data."
   ]
  },
  {
   "cell_type": "markdown",
   "metadata": {},
   "source": [
    "### Generalized least-squares fitting with Fourier basis functions<a id=\"intro\"></a>\n",
    "\n",
    "The least-squares method with Fourier basis functions is a powerful computational tool for data fitting and data analysis, the course notes OneNote [ChEn-3170-gen-lsq](https://studentuml-my.sharepoint.com/:o:/g/personal/valmor_dealmeida_uml_edu/Ep9qLSMssi1MjWvl2wYlTHkBSd5aUUoo1fIoe5pswIV0vA?e=Mhkd6f) collects elements of the theory (see also  [ChEn-3170](https://github.com/dpploy/chen-3170) Notebook 12). \n",
    "\n",
    "The Fourier expansion for approximating the fission yield $y(A)$ is\n",
    "\n",
    "\\begin{equation*}\n",
    "y(A) = \\sum\\limits_{k=0}^N \\alpha_k\\,\\cos(k\\,\\mu\\,A) + \\beta_k\\,\\sin(k\\,\\mu\\,A)\n",
    "\\end{equation*}\n",
    "\n",
    "If we have a set of values of the independent variable $A_i, i=1,\\ldots,m$, the above Fourier expression when applied to every $A_i$ gives\n",
    "\n",
    "\\begin{equation*}\n",
    "\\bvec = \\Amtrx\\,\\xvec \n",
    "\\end{equation*}\n",
    "\n",
    "where $\\Amtrx =  \\begin{pmatrix}\n",
    "1 & \\cos(\\mu\\,A_1) & \\sin(\\mu\\,A_1) & \\cos(2\\mu\\,A_1) & \\sin(2\\mu\\,A_1) & \\ldots & \\cos(N\\mu\\,A_1) & \\sin(N\\mu\\,A_1)  \\\\\n",
    "1 & \\cos(\\mu\\,A_2) & \\sin(\\mu\\,A_2) & \\cos(2\\mu\\,A_2) & \\sin(2\\mu\\,A_2) & \\ldots & \\cos(N\\mu\\,A_2) & \\sin(N\\mu\\,A_2)  \\\\\n",
    "\\vdots  & \\vdots & \\vdots & \\vdots & \\vdots & \\vdots & \\vdots & \\vdots \\\\\n",
    "1 & \\cos(\\mu\\,A_m) & \\sin(\\mu\\,A_m) & \\cos(2\\mu\\,A_m) & \\sin(2\\mu\\,A_m) & \\ldots & \\cos(N\\mu\\,A_m) & \\sin(N\\mu\\,A_m)  \\\\\n",
    " \\end{pmatrix}$, \n",
    " $\\xvec =  \\begin{pmatrix}\n",
    "  \\alpha_0 \\\\ \n",
    "  \\alpha_1 \\\\\n",
    "  \\beta_1 \\\\\n",
    "  \\vdots \\\\\n",
    "  \\alpha_N \\\\\n",
    "  \\beta_N \\\\ \n",
    " \\end{pmatrix}$, \n",
    "and \n",
    "$\\bvec = \\begin{pmatrix}\n",
    " y_1 \\\\ \n",
    " y_2 \\\\ \n",
    " \\vdots  \\\\ \n",
    " y_m \\\\ \n",
    "\\end{pmatrix} $."
   ]
  },
  {
   "cell_type": "code",
   "execution_count": null,
   "metadata": {},
   "outputs": [],
   "source": [
    "import math\n",
    "import numpy as np # Numpy is the numerical array package for Python\n",
    "\n",
    "period = np.max(ifpy_df['A']) - np.min(ifpy_df['A'])  # [A]\n",
    "omega  = 1/period                           # cycle frequency [1/A]\n",
    "mu     = 2*math.pi * omega                  # radian frequency [rad/A]\n",
    "\n",
    "n_pairs = 9"
   ]
  },
  {
   "cell_type": "code",
   "execution_count": null,
   "metadata": {
    "code_folding": [
     0
    ]
   },
   "outputs": [],
   "source": [
    "def build_fourier_matrix( mu, n_pairs, abscissa_vec ):\n",
    "\n",
    "    import numpy as np\n",
    "    assert isinstance(n_pairs,int)\n",
    "    assert isinstance(abscissa_vec,np.ndarray)\n",
    "        \n",
    "    a_mtrx = np.ones((abscissa_vec.size, 2*n_pairs + 1))\n",
    "\n",
    "    for k in range(n_pairs+1):\n",
    "        if k == 0:\n",
    "            continue\n",
    "        a_mtrx[:,2*k-1] = np.cos(k * mu * abscissa_vec)\n",
    "        a_mtrx[:,2*k]   = np.sin(k * mu * abscissa_vec)\n",
    "\n",
    "    return a_mtrx            "
   ]
  },
  {
   "cell_type": "code",
   "execution_count": null,
   "metadata": {},
   "outputs": [],
   "source": [
    "a_mtrx = build_fourier_matrix( mu, n_pairs, np.array(ifpy_df['A']) )\n",
    "\n",
    "b_vec = np.array(ifpy_df['FP Yield'])\n",
    "\n",
    "rank = np.linalg.matrix_rank(a_mtrx)\n",
    "#print('rank(A) =',rank)\n",
    "assert rank == 2*n_pairs+1"
   ]
  },
  {
   "cell_type": "markdown",
   "metadata": {},
   "source": [
    "Build the Least-Squares normal equations and solve for the optimal coefficients of the fitting\n",
    "\n",
    "\\begin{equation*}\n",
    "\\Amtrx^\\top\\Amtrx\\,\\xvec_\\text{LS}  = \\Amtrx^\\top\\,\\bvec .\n",
    "\\end{equation*}\n",
    "\n",
    "The least squares solution $\\xvec_\\text{LS}$ gives the optimal values of the Fourier modes, $\\alpha_k\\,\\cos(k\\,\\mu\\,A)$ and $\\beta_k\\,\\sin(k\\,\\mu\\,A)$."
   ]
  },
  {
   "cell_type": "code",
   "execution_count": null,
   "metadata": {},
   "outputs": [],
   "source": [
    "x_vec = np.linalg.solve( a_mtrx.transpose()@a_mtrx, a_mtrx.transpose()@b_vec )"
   ]
  },
  {
   "cell_type": "markdown",
   "metadata": {},
   "source": [
    "We want an analytical function for the FP yield as a function of the mass number:\n",
    "\n",
    "\\begin{equation*}\n",
    "y(A)\n",
    "\\end{equation*}\n",
    "\n",
    "that fits the experimental data."
   ]
  },
  {
   "cell_type": "code",
   "execution_count": null,
   "metadata": {
    "code_folding": [
     0
    ]
   },
   "outputs": [],
   "source": [
    "def fp_yield( mass_number ):\n",
    "    '''\n",
    "    Fission product yields curve fitting.\n",
    "\n",
    "    Parameters\n",
    "    ----------\n",
    "    mass_number: float or numpy.ndarray, required\n",
    "        Nuclide mass number. If `mass_number` is an array, \n",
    "        the return value is also an array of values.\n",
    "    x_a_0: float, required\n",
    "        Mole fraction of species A.\n",
    "    \n",
    "    Returns\n",
    "    -------\n",
    "    value: float or numpy.ndarray\n",
    "        Value or vector of values of the fission product yield\n",
    "        evaluated at `mass_number`.\n",
    "\n",
    "    Examples\n",
    "    --------\n",
    "    '''\n",
    "    #assert np.min(mass_number) >= min(df['A']) and np.max(mass_number) <= max(df['A']),\\\n",
    "    #   'Out of range. Min = %r, max = %r, request_min = %r, request_max = %r'%\\\n",
    "    #   (min(df['A']), max(df['A']), np.min(mass_number), np.max(mass_number) )\n",
    "    \n",
    "    if np.min(mass_number) < min(ifpy_df['A']) or np.max(mass_number) > max(ifpy_df['A']):\n",
    "        return False\n",
    "    \n",
    "    a_mtrx = build_fourier_matrix(mu, n_pairs, mass_number )\n",
    "    fp_yield = a_mtrx @ x_vec\n",
    "    \n",
    "    fp_yield[fp_yield<0] = 0.0 # correct for negative values in the curve fitting\n",
    "        \n",
    "    return fp_yield"
   ]
  },
  {
   "cell_type": "code",
   "execution_count": null,
   "metadata": {
    "code_folding": [
     2
    ]
   },
   "outputs": [],
   "source": [
    "'''Function: plot the LS Fourier fit and all modes'''\n",
    "\n",
    "def plot_fourier_fit(mass_number_expt, fp_yield_expt, mu, x_vec, roots=None):\n",
    "    \n",
    "    import matplotlib.pyplot as plt\n",
    "    \n",
    "    plt.figure(2, figsize=(8,6))\n",
    "\n",
    "    # plot experimental data\n",
    "    plt.plot(mass_number_expt, fp_yield_expt,'r*',label='experimental (ENDF/B-VIII.0)')\n",
    "\n",
    "    # plot LS Fourier fitting\n",
    "    n_plot_pts = 100\n",
    "    mass_number_plot = np.linspace(mass_number_expt[0],mass_number_expt[-1],n_plot_pts)\n",
    "    fp_yield_plot = fp_yield(mass_number_plot)\n",
    "    assert fp_yield_plot is not False\n",
    "    \n",
    "    plt.plot( mass_number_plot, fp_yield_plot,'b:',label='LS Fourier fitting' )\n",
    "\n",
    "    # plot each of the Fourier modes\n",
    "    a_mtrx = build_fourier_matrix(mu, n_pairs, mass_number_plot)\n",
    "    from engy_5050.help import color_map\n",
    "    colors = color_map(a_mtrx.shape[1])\n",
    "    \n",
    "    for j in range(a_mtrx.shape[1]):\n",
    "\n",
    "        if j != 0:\n",
    "            color=colors[j-1]\n",
    "        \n",
    "        if j == 0:\n",
    "            color='black'\n",
    "            k = 0\n",
    "            label=r'$\\alpha_{%i}$=%4.2e'%(k,x_vec[j])\n",
    "            line_style = '-'  # cosine\n",
    "        elif j%2 == 0:\n",
    "            k = j/2\n",
    "            label=r'$\\beta_{%i}$(=%4.2e) sin($%i\\mu t$)'%(k,x_vec[j],k)\n",
    "            line_style = '--'  # cosine\n",
    "        else:\n",
    "            k = (j+1)/2\n",
    "            label=r'$\\alpha_{%i}$(=%4.2e) cos($%i\\mu t$)'%(k,x_vec[j],k)\n",
    "            line_style = '-'  # sine\n",
    "        \n",
    "        vertical_offset = 3 # to improve visibility of modes\n",
    "        if j == 0:\n",
    "            vertical_offset = 0\n",
    "        \n",
    "        plt.plot(mass_number_plot, x_vec[j]*a_mtrx[:,j]-vertical_offset,label=label,color=color,linestyle=line_style )\n",
    "        \n",
    "    plt.xlabel(r'A',fontsize=18)\n",
    "    plt.ylabel(r'Prompt Fission Products Yield and Fit [%]',fontsize=18)\n",
    "    plt.title('Fission of $^{235}_{92}$U (E=0.0253 eV)',fontsize=20)\n",
    "\n",
    "    (x_min,x_max) = plt.xlim()\n",
    "    dx = abs(x_max-x_min)\n",
    "    x_text = x_min + dx*0.25\n",
    "    \n",
    "    (y_min,y_max) = plt.ylim()\n",
    "    dy = abs(y_max-y_min)\n",
    "    y_text = y_min + dy*0.02\n",
    "    \n",
    "    plt.text(x_text, y_text, \n",
    "             r'$\\mu=$%8.2e [rad/A],   $N$=%i'%\n",
    "             (mu,n_pairs),fontsize=16)\n",
    "\n",
    "    if roots is not None:\n",
    "        for r in roots:\n",
    "            plt.plot(r, 0.0,'b*',markersize=16)\n",
    "\n",
    "    plt.xticks(fontsize=14)\n",
    "    plt.yticks(fontsize=14)\n",
    "    plt.legend(loc='upper right',bbox_to_anchor=(1.55, 1),fontsize=12)\n",
    "    #plt.yscale('log')\n",
    "    plt.grid(True)\n",
    "    plt.show()\n",
    "    print('')\n",
    "    \n",
    "    return"
   ]
  },
  {
   "cell_type": "code",
   "execution_count": null,
   "metadata": {},
   "outputs": [],
   "source": [
    "'''Plot the LS Fourier fit'''\n",
    "\n",
    "plot_fourier_fit(np.array(ifpy_df['A']), np.array(ifpy_df['FP Yield']), mu, x_vec)"
   ]
  },
  {
   "cell_type": "code",
   "execution_count": null,
   "metadata": {
    "code_folding": [
     2
    ]
   },
   "outputs": [],
   "source": [
    "'''Usage of FP yield function'''\n",
    "\n",
    "def example(function):\n",
    "    np.set_printoptions(precision=5)\n",
    "    # single value A\n",
    "    print('y[80] = ',fp_yield(np.array([80])))\n",
    "\n",
    "    # multiple values of A at once\n",
    "    a_values = np.array([80,90,100,110,120,130,140,150,160],np.float64)\n",
    "    y_values = fp_yield(a_values)\n",
    "\n",
    "    for y in y_values:\n",
    "        i = list(y_values).index(y)\n",
    "        print('y[%2i] = %+5.3e'%(a_values[i],y))\n",
    "        \n",
    "example(fp_yield)"
   ]
  },
  {
   "cell_type": "markdown",
   "metadata": {},
   "source": [
    "Build the derivative of the Fourier expansion\n",
    "\n",
    "\\begin{equation*}\n",
    "y'(A) = \\sum\\limits_{k=0}^N -\\alpha_k\\,k\\,\\mu\\,\\sin(k\\,\\mu\\,A) + \\beta_k\\,k\\,\\mu\\,\\cos(k\\,\\mu\\,A)\n",
    "\\end{equation*}"
   ]
  },
  {
   "cell_type": "code",
   "execution_count": null,
   "metadata": {
    "code_folding": [
     0
    ]
   },
   "outputs": [],
   "source": [
    "def build_fourier_matrix_prime( mu, n_pairs, abscissa_vec ):\n",
    "\n",
    "    import numpy as np\n",
    "    a_mtrx = np.zeros((abscissa_vec.size, 2*n_pairs + 1))\n",
    "\n",
    "    for k in range(n_pairs+1):\n",
    "        if k == 0:\n",
    "            continue\n",
    "        a_mtrx[:,2*k-1] = - k*mu * np.sin(k * mu * abscissa_vec)\n",
    "        a_mtrx[:,2*k]   =   k*mu * np.cos(k * mu * abscissa_vec)\n",
    "\n",
    "    return a_mtrx  "
   ]
  },
  {
   "cell_type": "code",
   "execution_count": null,
   "metadata": {
    "code_folding": [
     0
    ]
   },
   "outputs": [],
   "source": [
    "def fp_yield_prime( mass_number ):\n",
    "    '''\n",
    "    Fission product yields curve fitting.\n",
    "\n",
    "    Parameters\n",
    "    ----------\n",
    "    mass_number: float or numpy.ndarray, required\n",
    "        Nuclide mass number. If `mass_number` is an array, \n",
    "        the return value is also an array of values.\n",
    "    x_a_0: float, required\n",
    "        Mole fraction of species A.\n",
    "    \n",
    "    Returns\n",
    "    -------\n",
    "    value: float or numpy.ndarray\n",
    "        Value or vector of values of the fission product yield\n",
    "        evaluated at `mass_number`.\n",
    "\n",
    "    Examples\n",
    "    --------\n",
    "    '''\n",
    "    #assert np.min(mass_number) >= min(df['A']) and np.max(mass_number) <= max(df['A']),\\\n",
    "    #    'Out of range. Min = %r, max = %r, request_min = %r, request_max = %r'%\\\n",
    "    #    (min(df['A']), max(df['A']), np.min(mass_number), np.max(mass_number) )\n",
    "    \n",
    "    if np.min(mass_number) < min(ifpy_df['A']) or np.max(mass_number) > max(ifpy_df['A']):\n",
    "        return False\n",
    "    \n",
    "    a_mtrx = build_fourier_matrix_prime(mu, n_pairs, mass_number )\n",
    "    fp_yield_prime = a_mtrx @ x_vec\n",
    "        \n",
    "    return fp_yield_prime"
   ]
  },
  {
   "cell_type": "code",
   "execution_count": null,
   "metadata": {
    "code_folding": [
     2
    ]
   },
   "outputs": [],
   "source": [
    "'''Usage of derivative of the FP yield function'''\n",
    "\n",
    "def example(function):\n",
    "    np.set_printoptions(precision=5)\n",
    "    # single value A\n",
    "    print(\"y'[80] = \",fp_yield_prime(np.array([80],np.float64)))\n",
    "\n",
    "    # multiple values of A at once\n",
    "    a_values = np.array([80,90,100,110,120,130,140,150,160],np.float64)\n",
    "    y_prime_values = fp_yield_prime(a_values)\n",
    "\n",
    "    for y in y_prime_values:\n",
    "        i = list(y_prime_values).index(y)\n",
    "        print(\"y'[%2i] = %+5.3e\"%(a_values[i],y))\n",
    "example(fp_yield_prime)"
   ]
  },
  {
   "cell_type": "code",
   "execution_count": null,
   "metadata": {
    "code_folding": []
   },
   "outputs": [],
   "source": [
    "'''Function: plot the derivative of the fp_yield function'''\n",
    "\n",
    "def plot_fp_yield_prime(mass_number_expt, mu, x_vec):\n",
    "    \n",
    "    import matplotlib.pyplot as plt\n",
    "    \n",
    "    plt.figure(2, figsize=(8,6))\n",
    "\n",
    "    # plot LS Fourier fitting\n",
    "    n_plot_pts = 100\n",
    "    mass_number_plot = np.linspace(mass_number_expt[0],mass_number_expt[-1],n_plot_pts)\n",
    "    \n",
    "    fp_yield_prime_plot = fp_yield_prime(mass_number_plot)\n",
    "    assert fp_yield_prime_plot is not False\n",
    "    \n",
    "    plt.plot( mass_number_plot, fp_yield_prime_plot,'b:',label='FP Yield Derivative' )\n",
    "\n",
    "    # plot all derivatives of the Fourier modes\n",
    "    a_mtrx = build_fourier_matrix_prime(mu, n_pairs, mass_number_plot )\n",
    "    from engy_5050.help import color_map\n",
    "    colors = color_map(a_mtrx.shape[1])\n",
    "    \n",
    "    for j in range(a_mtrx.shape[1]):\n",
    "\n",
    "        if j != 0:\n",
    "            color=colors[j-1]\n",
    "        \n",
    "        if j == 0:\n",
    "            color='black'\n",
    "            k = 0\n",
    "            label=r'$\\alpha_{%i}$=%4.2e'%(k,x_vec[j])\n",
    "            line_style = '--'  # sine\n",
    "        elif j%2 == 0:\n",
    "            k = j/2\n",
    "            label=r'$\\beta_{%i}$(=%4.2e) %i$\\mu$ cos($%i\\mu t$)'%(k,x_vec[j],k,k)\n",
    "            line_style = '-'  # cosine\n",
    "        else:\n",
    "            k = (j+1)/2\n",
    "            label=r'$\\alpha_{%i}$(=%4.2e) %i$\\mu$ sin($%i\\mu t$)'%(k,x_vec[j],k,k)\n",
    "            line_style = '--'  # sine\n",
    "        \n",
    "        vertical_offset = 1 # to improve visibility of modes\n",
    "        if j == 0:\n",
    "            vertical_offset = 0\n",
    "        \n",
    "        plt.plot(mass_number_plot, x_vec[j]*a_mtrx[:,j]-vertical_offset,label=label,color=color,linestyle=line_style )\n",
    "        \n",
    "    plt.xlabel(r'A',fontsize=18)\n",
    "    plt.ylabel(r'Derivative of Fission Products Yield [%/A]',fontsize=18)\n",
    "    plt.title('Fission of $^{235}_{92}$U (E=0.0253 eV)',fontsize=20)\n",
    "\n",
    "    (x_min,x_max) = plt.xlim()\n",
    "    dx = abs(x_max-x_min)\n",
    "    x_text = x_min + dx*0.25\n",
    "    \n",
    "    (y_min,y_max) = plt.ylim()\n",
    "    dy = abs(y_max-y_min)\n",
    "    y_text = y_min + dy*0.02\n",
    "    \n",
    "    plt.text(x_text, y_text, \n",
    "             r'$\\mu=$%8.2e [rad/A],   $N$=%i'%\n",
    "             (mu,n_pairs),fontsize=16)\n",
    "\n",
    "    plt.xticks(fontsize=14)\n",
    "    plt.yticks(fontsize=14)\n",
    "    plt.legend(loc='upper right',bbox_to_anchor=(1.55, 1),fontsize=12)\n",
    "    plt.grid(True)\n",
    "    plt.show()\n",
    "    print('')\n",
    "    return"
   ]
  },
  {
   "cell_type": "code",
   "execution_count": null,
   "metadata": {},
   "outputs": [],
   "source": [
    "'''Plot the FP Yield Derivative'''\n",
    "\n",
    "plot_fp_yield_prime(np.array(ifpy_df['A']), mu, x_vec)"
   ]
  },
  {
   "cell_type": "markdown",
   "metadata": {},
   "source": [
    "Build the second derivative of the Fourier expansion (needed by Newton's method later)\n",
    "\n",
    "\\begin{equation*}\n",
    "y''(A) = \\sum\\limits_{k=0}^N -\\alpha_k\\,k^2\\,\\mu^2\\,\\cos(k\\,\\mu\\,A) - \\beta_k\\,k^2\\,\\mu^2\\,\\sin(k\\,\\mu\\,A)\n",
    "\\end{equation*}"
   ]
  },
  {
   "cell_type": "code",
   "execution_count": null,
   "metadata": {
    "code_folding": [
     0
    ]
   },
   "outputs": [],
   "source": [
    "def build_fourier_matrix_double_prime( mu, n_pairs, abscissa_vec ):\n",
    "\n",
    "    import numpy as np\n",
    "    a_mtrx = np.zeros((abscissa_vec.size, 2*n_pairs + 1))\n",
    "\n",
    "    for k in range(n_pairs+1):\n",
    "        if k == 0:\n",
    "            continue\n",
    "        a_mtrx[:,2*k-1] = - k*k * mu*mu * np.cos(k * mu * abscissa_vec)\n",
    "        a_mtrx[:,2*k]   = - k*k * mu*mu * np.sin(k * mu * abscissa_vec)\n",
    "\n",
    "    return a_mtrx  "
   ]
  },
  {
   "cell_type": "code",
   "execution_count": null,
   "metadata": {
    "code_folding": [
     0
    ]
   },
   "outputs": [],
   "source": [
    "def fp_yield_double_prime( mass_number ):\n",
    "    '''\n",
    "    Fission product yields curve fitting.\n",
    "\n",
    "    Parameters\n",
    "    ----------\n",
    "    mass_number: float or numpy.ndarray, required\n",
    "        Nuclide mass number. If `mass_number` is an array, \n",
    "        the return value is also an array of values.\n",
    "    x_a_0: float, required\n",
    "        Mole fraction of species A.\n",
    "    \n",
    "    Returns\n",
    "    -------\n",
    "    value: float or numpy.ndarray\n",
    "        Value or vector of values of the fission product yield\n",
    "        evaluated at `mass_number`.\n",
    "\n",
    "    Examples\n",
    "    --------\n",
    "    '''   \n",
    "    #assert np.min(mass_number) >= min(df['A']) and np.max(mass_number) <= max(df['A']),\\\n",
    "    #   'Out of range. Min = %r, max = %r, request_min = %r, request_max = %r'%\\\n",
    "    #   (min(df['A']), max(df['A']), np.min(mass_number), np.max(mass_number) )\n",
    "    \n",
    "    if np.min(mass_number) < min(ifpy_df['A']) or np.max(mass_number) > max(ifpy_df['A']):\n",
    "        return False\n",
    "    \n",
    "    a_mtrx = build_fourier_matrix_double_prime(mu, n_pairs, mass_number )\n",
    "    fp_yield_double_prime = a_mtrx @ x_vec\n",
    "        \n",
    "    return fp_yield_double_prime"
   ]
  },
  {
   "cell_type": "code",
   "execution_count": null,
   "metadata": {
    "code_folding": [
     2
    ]
   },
   "outputs": [],
   "source": [
    "'''Usage of second derivative of the FP yield function'''\n",
    "\n",
    "def example(function):\n",
    "    np.set_printoptions(precision=5)\n",
    "    # single value A\n",
    "    print('y\"(80) = ',fp_yield_double_prime(np.array([80],np.float64)))\n",
    "\n",
    "    # multiple values of A at once\n",
    "    a_values = np.array([80,90,100,110,120,130,140,150,160],np.float64)\n",
    "    y_double_prime_values = fp_yield_double_prime(a_values)\n",
    "\n",
    "    for y in y_double_prime_values:\n",
    "        i = list(y_double_prime_values).index(y)\n",
    "        print('y\"[%2i] = %+5.3e'%(a_values[i],y))\n",
    "        \n",
    "example(fp_yield_double_prime)"
   ]
  },
  {
   "cell_type": "markdown",
   "metadata": {},
   "source": [
    "Given $y'(\\cdot)$, find the roots\n",
    "\n",
    "\\begin{equation*}\n",
    "y'(A) = 0 ,\n",
    "\\end{equation*}\n",
    "\n",
    "using an iterative method based on the initial guess $x_0$. Compute the updates\n",
    "\n",
    "\\begin{equation*}\n",
    "\\delta A_k = - \\frac{y'(A_{k-1})}{y''(A_{k-1})} \\ \\qquad \\  \\forall \\ \\qquad \\ k = 1,\\ldots,k_\\text{max} , \n",
    "\\end{equation*}\n",
    "\n",
    "then compute the approximation to the root\n",
    "\n",
    "\\begin{equation*}\n",
    " A_k = A_{k-1} + \\delta A_k \\ \\qquad \\  \\forall \\ \\qquad\\ \\ k = 1,\\ldots,k_\\text{max} ,\n",
    "\\end{equation*}\n",
    "\n",
    "until convergence, say, $\\abs{y'_k} \\le 10^{-8}$ and $\\abs{y'(A_k)} \\le 10^{-8}$, or no convergence achieved , say $k>k_\\text{max}$. "
   ]
  },
  {
   "cell_type": "code",
   "execution_count": null,
   "metadata": {
    "code_folding": [
     2
    ]
   },
   "outputs": [],
   "source": [
    "\"\"\"Newton's method for finding the roots of the function f(.)\"\"\"\n",
    "\n",
    "def newton_solver( function,\n",
    "                  function_prime,\n",
    "                  root_0=np.zeros(1),\n",
    "                  k_max=30, tolerance=1.0e-10, verbose=True ):\n",
    "\n",
    "    # Other initialization\n",
    "    delta_k = np.array([1e+10])\n",
    "    f_k     = np.array([1e+10])\n",
    "    root = root_0\n",
    "\n",
    "    if verbose is True:\n",
    "        print('\\n')\n",
    "        print('******************************************************')\n",
    "        print(\"          Newton's Method Iterations                  \")\n",
    "        print('******************************************************')\n",
    "        print(\"k |  f(x_k)  |  f'(x_k) | |del x_k| |    x_k   |convg|\")\n",
    "        print('------------------------------------------------------')\n",
    "\n",
    "    import math\n",
    "    k = 0\n",
    "    \n",
    "    while (abs(delta_k) > tolerance or abs(f_k) > tolerance) and k <= k_max:\n",
    "        \n",
    "        f_k_old   = f_k\n",
    "        f_k       = function( root )\n",
    "        if f_k is False:\n",
    "            return False\n",
    "        f_prime_k = function_prime( root )\n",
    "        if f_prime_k is False:\n",
    "            return False\n",
    "        \n",
    "        delta_k_old = delta_k\n",
    "        delta_k = -f_k / f_prime_k\n",
    "        \n",
    "        if abs(f_k[0]) > abs(f_k_old[0]): delta_k *= 0.1\n",
    "        \n",
    "        root += delta_k\n",
    "        \n",
    "        if k > 0:\n",
    "            if delta_k[0] != 0.0 and delta_k_old[0] != 0.0:\n",
    "                convergence_factor = abs(math.log(abs(delta_k[0]),10) / math.log(abs(delta_k_old[0]),10))\n",
    "            else:\n",
    "                convergence_factor = 0.0  \n",
    "        else:\n",
    "            convergence_factor = 0.0\n",
    "            \n",
    "        k = k + 1\n",
    "        \n",
    "        if verbose is True:\n",
    "            print('%2i %+5.3e %+5.3e %+5.3e  %+5.3e %5.2f'%\\\n",
    "                  (k,f_k[0],f_prime_k[0],abs(delta_k[0]),root[0],convergence_factor))\n",
    "    \n",
    "    if k > k_max:\n",
    "        return False\n",
    "    \n",
    "    if verbose is True:\n",
    "        print('******************************************************') \n",
    "        print('Root = %8.5e'%root[0])\n",
    "    \n",
    "    return root[0]"
   ]
  },
  {
   "cell_type": "code",
   "execution_count": null,
   "metadata": {},
   "outputs": [],
   "source": [
    "'''Find \"all\" local max/min of y(A), that is y'(A) = 0'''\n",
    "\n",
    "# Scan the range of A's\n",
    "\n",
    "n_scan_pts = 5\n",
    "mass_number_scan = np.linspace(min(ifpy_df['A']),max(ifpy_df['A']),n_scan_pts)\n",
    "\n",
    "k_max = 50         # max # Newton's method iterations\n",
    "tolerance = 1.0e-8 # Newton's method convergence\n",
    "\n",
    "max_min = list() # space to hold all root point found\n",
    "\n",
    "# loop over range of A's and attempt to find a root of the y'(A) function.\n",
    "# this requires the second derivative y\"(A)\n",
    "for a in mass_number_scan:\n",
    "    mass_num_0 = np.array([a],np.float64)\n",
    "\n",
    "    mass_num = newton_solver( fp_yield_prime, fp_yield_double_prime,\n",
    "                             mass_num_0, \n",
    "                             k_max, tolerance, verbose=False )\n",
    "    if mass_num is False:\n",
    "        continue\n",
    "    else:\n",
    "        #print('')\n",
    "        #print('Root')\n",
    "        #print('A = %5.3e\\n'%mass_num)\n",
    "        max_min.append(int(round(mass_num,0)))\n",
    "        \n",
    "max_min = sorted(list(set(max_min)))\n",
    "print('Min/max mass numbers:\\n',max_min)"
   ]
  },
  {
   "cell_type": "code",
   "execution_count": null,
   "metadata": {},
   "outputs": [],
   "source": [
    "'''Select only the local max'''\n",
    "\n",
    "max_yields = list()\n",
    "for mm in max_min:\n",
    "    if fp_yield_double_prime(np.array([mm])) < 0:\n",
    "        max_yields.append( mm )\n",
    "        \n",
    "print('Max mass numbers:\\n',max_yields)        "
   ]
  },
  {
   "cell_type": "code",
   "execution_count": null,
   "metadata": {},
   "outputs": [],
   "source": [
    "'''Plot the maximum points found'''\n",
    "\n",
    "plot_fourier_fit(np.array(ifpy_df['A']), np.array(ifpy_df['FP Yield']), mu, x_vec, max_yields )"
   ]
  },
  {
   "cell_type": "markdown",
   "metadata": {},
   "source": [
    "Results for light and heavy peaks of FP yield"
   ]
  },
  {
   "cell_type": "markdown",
   "metadata": {},
   "source": [
    "|**Nuclide (neutron energy)**  |**Peak $A_L$**|**Peak $A_H$**|\n",
    "|:------------|:---------------:|:---------------:|\n",
    "| $^{235}_{92}$U (E=0.0253 eV) |  96             |  137            |\n"
   ]
  },
  {
   "cell_type": "markdown",
   "metadata": {},
   "source": [
    "Integral of the fission product yield curve can be obtained in two ways:\n",
    "+ Simple sum because of the way the data was normalized to begin with.\n",
    "+ Integral of $y(A)$."
   ]
  },
  {
   "cell_type": "code",
   "execution_count": null,
   "metadata": {},
   "outputs": [],
   "source": [
    "'''Total sum of independent FP yield per 100 fissions'''\n",
    "print('Total sum = ',round(sum(ifpy_df['FP Yield']),1))"
   ]
  },
  {
   "cell_type": "markdown",
   "metadata": {},
   "source": [
    "Use the [SciPy](https://www.scipy.org/) python library for computing the function integral \n",
    "\n",
    "\\begin{equation*}\n",
    "\\int\\limits_{A_\\text{min}}^{A_\\text{max}} y(A)\\,dA = 200\\, \\% , \n",
    "\\end{equation*}"
   ]
  },
  {
   "cell_type": "code",
   "execution_count": null,
   "metadata": {},
   "outputs": [],
   "source": [
    "'''Integral of the independent FP yield function: total number of fragments per 100 fissions'''\n",
    "\n",
    "import scipy.integrate as integrate\n",
    "# quad returns a pair (integral,accuracy)\n",
    "min_A = min(ifpy_df['A'])\n",
    "max_A = max(ifpy_df['A'])\n",
    "\n",
    "integral = integrate.quad( lambda A: fp_yield(np.array([A])), min_A, max_A, limit=150 )\n",
    "integral_error = integral[1]\n",
    "assert abs(integral_error) <= 1e-5\n",
    "print('integral = ',round(integral[0],1))"
   ]
  },
  {
   "cell_type": "markdown",
   "metadata": {},
   "source": [
    "Note that each FP yield peak is assigned 100 % normalization\n",
    "\n",
    "\\begin{equation*}\n",
    "\\int\\limits_{A_\\text{min}}^{\\overline{A}} y_\\text{L}(A)\\,dA = 100\\, \\% \\ \\quad \\  \\text{and} \n",
    "\\int\\limits_{\\overline{A}}^{A_\\text{min}} y_\\text{H}(A)\\,dA = 100\\, \\% \n",
    "\\end{equation*}\n"
   ]
  },
  {
   "cell_type": "code",
   "execution_count": null,
   "metadata": {},
   "outputs": [],
   "source": [
    "'''Integral of the light FP yield function'''\n",
    "\n",
    "import scipy.integrate as integrate\n",
    "# quad returns a pair (integral,accuracy)\n",
    "min_A = min(ifpy_df['A'])\n",
    "mid_A = int(round((max(ifpy_df['A'])+min_A)/2.0,0))\n",
    "\n",
    "integral = integrate.quad( lambda A: fp_yield(np.array([A])), min_A, mid_A, limit=150 )\n",
    "integral_error = integral[1]\n",
    "assert abs(integral_error) <= 1e-5\n",
    "print('min A    = ',min_A)\n",
    "print('mid A    = ',mid_A)\n",
    "print('integral = ',round(integral[0],1))"
   ]
  },
  {
   "cell_type": "code",
   "execution_count": null,
   "metadata": {},
   "outputs": [],
   "source": [
    "'''Integral of the heavy FP yield function'''\n",
    "\n",
    "import scipy.integrate as integrate\n",
    "# quad returns a pair (integral,accuracy)\n",
    "mid_A = int(round((max(ifpy_df['A'])+min_A)/2,0))\n",
    "\n",
    "integral = integrate.quad( lambda A: fp_yield(np.array([A])), mid_A, max_A, limit=150 )\n",
    "integral_error = integral[1]\n",
    "assert abs(integral_error) <= 1e-5\n",
    "print('mid A    = ',mid_A)\n",
    "print('max A    = ',max_A)\n",
    "print('integral = ',round(integral[0],1))"
   ]
  },
  {
   "cell_type": "markdown",
   "metadata": {},
   "source": [
    "## Independent fission fragment yield (A,Z)<a id=\"iffyaz\"></a>\n",
    "\n",
    "Acquiring the data:\n",
    "\n",
    "+ Using the [ENDF](https://www.nndc.bnl.gov/exfor/endf00.jsp) help tab, look for an existing example. In this case follow the `Example 9: 235U, individual and cumulative fission product yields, US library, numerical values`. \n",
    "+ Use the *extended retrieval tab* and provide the input: `Target=u-235, Sub-library (Projectile) = *fpy* and Library=ENDF/B-VII.0`. \n",
    "+ In the new window, select the library and click on `FPY(A)`. \n",
    "+ Select the *independent* (prompt) thermal neutron fission product yield data `FPYI,U-235,ENDF/B-VIII.0,Ei=0.0253eV` and `Repaint` the plot.\n",
    "+ Click on `FY(Z,A) matrix  is [here]` at the bottom of the window.\n",
    "+ Reset the energy level for plotting and `Repaint` the plot.\n",
    "+ Use the browser save option to create a file with the raw data `u-235-ifpy-AZ-thermal.dat`.\n",
    "+ Unfortunately this data file needs to be edited before it can be imported."
   ]
  },
  {
   "cell_type": "code",
   "execution_count": null,
   "metadata": {},
   "outputs": [],
   "source": [
    "'''View the raw data'''\n",
    "!head -n 8 data/u-235-ifpy-AZ-thermal.dat\n",
    "print('...')\n",
    "!tail -n 1 data/u-235-ifpy-AZ-thermal.dat"
   ]
  },
  {
   "cell_type": "code",
   "execution_count": null,
   "metadata": {
    "code_folding": [
     2
    ]
   },
   "outputs": [],
   "source": [
    "'''Function to read the blank-spaced column data into a Pandas data frame (table)'''\n",
    "\n",
    "def read_table(file_name):\n",
    "    '''\n",
    "    Read table data into a `pandas` data frame (table).  \n",
    "    \n",
    "    Parameters\n",
    "    ----------\n",
    "    file_name: str, required\n",
    "        File name and its path relative to this notebook.\n",
    "    \n",
    "    Returns\n",
    "    -------\n",
    "    df: pandas.df\n",
    "        `Pandas` data frame (table).\n",
    "\n",
    "    Examples\n",
    "    --------\n",
    "    '''\n",
    "    import pandas as pd\n",
    "    \n",
    "    df = pd.read_csv( file_name,  \n",
    "                      skiprows=6,\n",
    "                      delim_whitespace=True)\n",
    "    \n",
    "# to avoid frustrations, set explicitly the data types of each column\n",
    "    for c in df.columns: \n",
    "        if c == 'Y(NO-DIM)':\n",
    "            continue\n",
    "        df = df.astype({c:float},copy=False)\n",
    "\n",
    "    #print(df.dtypes)\n",
    "    return df"
   ]
  },
  {
   "cell_type": "code",
   "execution_count": null,
   "metadata": {},
   "outputs": [],
   "source": [
    "'''Read data'''\n",
    "\n",
    "ifpy_az_df = read_table('data/u-235-ifpy-AZ-thermal.dat')"
   ]
  },
  {
   "cell_type": "code",
   "execution_count": null,
   "metadata": {
    "code_folding": [
     2,
     7
    ]
   },
   "outputs": [],
   "source": [
    "'''Function for creating a FP yield(A,Z) list container'''\n",
    "\n",
    "def get_fpy_az( df ):\n",
    "    '''\n",
    "    Create a list of named tuple nuclides\n",
    "    Parameters\n",
    "    ----------\n",
    "    df: pandas data frame, required\n",
    "        Table of data for nuclides.\n",
    "    \n",
    "    Returns\n",
    "    -------\n",
    "    nuclides: list(namedtuple)\n",
    "        List of namedtuples. Names: name, element_name, Z, A, yield_percent.\n",
    "\n",
    "    Examples\n",
    "    --------\n",
    "    '''\n",
    "    \n",
    "    nuclides = list()\n",
    "\n",
    "    # design a container data structure\n",
    "    from collections import namedtuple\n",
    "    FPY = namedtuple('FPY', ['name','element_name','Z','A','yield_percent'])\n",
    "\n",
    "    import pandas as pd\n",
    "\n",
    "    # Use the Mendeleev python package (periodic table of elements)\n",
    "    from mendeleev import element\n",
    "\n",
    "    total_yield = 0.0 # sum total yield\n",
    "    for row in df.itertuples(index=False): # loop over rows of a pandas dataframe\n",
    "        z = row[0]\n",
    "        for j in range(1,len(row)-1):\n",
    "            if row[j] < 1.e-10: # this will eliminate lots of zeros (a must to have)\n",
    "                continue\n",
    "            a_str = df.columns[j] # index column is not part of the columns\n",
    "            symbol = element(z).symbol\n",
    "            name = name=symbol+'-'+a_str\n",
    "            element_name = element(z).name\n",
    "            yield_value = row[j]\n",
    "            total_yield += yield_value\n",
    "            nuc = FPY( name=name, element_name=element_name, Z=z, A=int(a_str), yield_percent=yield_value )\n",
    "        \n",
    "            nuclides.append(nuc)\n",
    "    \n",
    "    print('Sum of yield values in data file = ',round(total_yield,2))\n",
    "    return nuclides"
   ]
  },
  {
   "cell_type": "code",
   "execution_count": null,
   "metadata": {},
   "outputs": [],
   "source": [
    "'''Create the FP yield(A,Z) list container'''\n",
    "\n",
    "ifpy_az = get_fpy_az( ifpy_az_df )\n",
    "print('Sum of yield values in dictionary container = ',round(sum([fp.yield_percent for fp in ifpy_az]),2))\n",
    "print('# of FP nuclides = ', len(ifpy_az))"
   ]
  },
  {
   "cell_type": "code",
   "execution_count": null,
   "metadata": {},
   "outputs": [],
   "source": [
    "'''Function to plot a 3-D surface plot or a 2D surface plot'''\n",
    "# to do"
   ]
  },
  {
   "cell_type": "code",
   "execution_count": null,
   "metadata": {},
   "outputs": [],
   "source": [
    "'''Plot FP yield on the A,Z plane'''\n",
    "# to do"
   ]
  },
  {
   "cell_type": "code",
   "execution_count": null,
   "metadata": {},
   "outputs": [],
   "source": [
    "'''Total sum of independent FP yield per 100 fissions'''\n",
    "\n",
    "print('Total sum = ',round(sum([fpy.yield_percent for fpy in ifpy_az]),1))"
   ]
  },
  {
   "cell_type": "code",
   "execution_count": null,
   "metadata": {
    "code_folding": [
     2
    ]
   },
   "outputs": [],
   "source": [
    "'''Plot function for nuclides half-life'''\n",
    "\n",
    "def plot_nuclides(fpy):\n",
    "    \n",
    "    from matplotlib import pyplot as plt # import the pyplot function of the matplotlib package\n",
    "    (fig, ax) = plt.subplots(figsize=(18,7))\n",
    "\n",
    "    ax.plot(range(len(fpy)), [nc.yield_percent for nc in fpy], \n",
    "            '-.',color='black', marker='o',markersize=10)\n",
    "    \n",
    "    plt.xticks(range(len(fpy)),[nc.name for nc in fpy],rotation=70,fontsize=12)\n",
    "\n",
    "    ax.set_xlim((-1,len(fpy)))\n",
    "\n",
    "    plt.xlabel(r'Nuclide',fontsize=18)\n",
    "    plt.ylabel(r'Yield [%]',fontsize=18)\n",
    "    plt.xticks(fontsize=14)\n",
    "    plt.yticks(fontsize=16)\n",
    "    \n",
    "    plt.title('Independent (Prompt) Fission Products (>1% Yield)',fontsize=22)\n",
    "    ax.grid(True)\n",
    "    #plt.yscale('log')\n",
    "    plt.show()\n",
    "\n",
    "    return"
   ]
  },
  {
   "cell_type": "code",
   "execution_count": null,
   "metadata": {},
   "outputs": [],
   "source": [
    "'''Plot FP nuclides with 1% or more fission yield'''\n",
    "\n",
    "fp_list = list()\n",
    "for fp in ifpy_az:\n",
    "    if fp.yield_percent >= 1.0:\n",
    "        fp_list.append(fp)\n",
    "        \n",
    "print('# of FP nuclides = ', len(fp_list))\n",
    "print('Sum = ',round(sum([fpy.yield_percent for fpy in fp_list]),1))\n",
    "\n",
    "plot_nuclides(fp_list)"
   ]
  },
  {
   "cell_type": "code",
   "execution_count": null,
   "metadata": {},
   "outputs": [],
   "source": [
    "'''Where is Mo-99?'''\n",
    "\n",
    "for fp in ifpy_az:\n",
    "    if fp.name == 'Mo-99':\n",
    "        print('Mo-99 yield [%] = ',fp.yield_percent)"
   ]
  }
 ],
 "metadata": {
  "kernelspec": {
   "display_name": "Python 3 (ipykernel)",
   "language": "python",
   "name": "python3"
  },
  "language_info": {
   "codemirror_mode": {
    "name": "ipython",
    "version": 3
   },
   "file_extension": ".py",
   "mimetype": "text/x-python",
   "name": "python",
   "nbconvert_exporter": "python",
   "pygments_lexer": "ipython3",
   "version": "3.9.9"
  },
  "latex_envs": {
   "LaTeX_envs_menu_present": true,
   "autoclose": false,
   "autocomplete": true,
   "bibliofile": "biblio.bib",
   "cite_by": "apalike",
   "current_citInitial": 1,
   "eqLabelWithNumbers": true,
   "eqNumInitial": 1,
   "hotkeys": {
    "equation": "Ctrl-E",
    "itemize": "Ctrl-I"
   },
   "labels_anchors": false,
   "latex_user_defs": false,
   "report_style_numbering": false,
   "user_envs_cfg": false
  }
 },
 "nbformat": 4,
 "nbformat_minor": 2
}
