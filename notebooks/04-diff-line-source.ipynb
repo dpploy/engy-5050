{
 "cells": [
  {
   "cell_type": "markdown",
   "metadata": {},
   "source": [
    "Engy-5050 Spring 2022 UMass Lowell; Prof. V. F. de Almeida **14Jan2022**\n",
    "\n",
    "# 04. Neutron Diffusion from a Cylinder Source\n",
    "$  \n",
    "  \\newcommand{\\Amtrx}{\\boldsymbol{\\mathsf{A}}}\n",
    "  \\newcommand{\\Bmtrx}{\\boldsymbol{\\mathsf{B}}}\n",
    "  \\newcommand{\\Mmtrx}{\\boldsymbol{\\mathsf{M}}}\n",
    "  \\newcommand{\\Imtrx}{\\boldsymbol{\\mathsf{I}}}\n",
    "  \\newcommand{\\Pmtrx}{\\boldsymbol{\\mathsf{P}}}\n",
    "  \\newcommand{\\Lmtrx}{\\boldsymbol{\\mathsf{L}}}\n",
    "  \\newcommand{\\Umtrx}{\\boldsymbol{\\mathsf{U}}}\n",
    "  \\newcommand{\\Smtrx}{\\boldsymbol{\\mathsf{S}}}\n",
    "  \\newcommand{\\xvec}{\\boldsymbol{\\mathsf{x}}}\n",
    "  \\newcommand{\\avec}{\\boldsymbol{\\mathsf{a}}}\n",
    "  \\newcommand{\\bvec}{\\boldsymbol{\\mathsf{b}}}\n",
    "  \\newcommand{\\cvec}{\\boldsymbol{\\mathsf{c}}}\n",
    "  \\newcommand{\\rvec}{\\boldsymbol{\\mathsf{r}}}\n",
    "  \\newcommand{\\fvec}{\\boldsymbol{\\mathsf{f}}}\n",
    "  \\newcommand{\\mvec}{\\boldsymbol{\\mathsf{m}}}\n",
    "  \\newcommand{\\gvec}{\\boldsymbol{\\mathsf{g}}}\n",
    "  \\newcommand{\\normal}{\\boldsymbol{n}}\n",
    "  \\newcommand{\\flux}{\\boldsymbol{q}}\n",
    "  \\newcommand{\\ihat}{\\hat{\\boldsymbol{i}}}\n",
    "  \\newcommand{\\rhat}{\\hat{\\boldsymbol{r}}}\n",
    "  \\newcommand{\\zerovec}{\\boldsymbol{\\mathsf{0}}}\n",
    "  \\newcommand{\\norm}[1]{\\bigl\\lVert{#1}\\bigr\\rVert}\n",
    "  \\newcommand{\\transpose}[1]{{#1}^\\top}\n",
    "  \\DeclareMathOperator{\\rank}{rank}\n",
    "  \\newcommand{\\Reals}{\\mathbb{R}}\n",
    "  \\newcommand{\\thetavec}{\\boldsymbol{\\theta}}\n",
    "  \\newcommand{\\Ecal}{\\mathcal{E}}\n",
    "$"
   ]
  },
  {
   "cell_type": "markdown",
   "metadata": {},
   "source": [
    "---\n",
    "\n",
    "## Table of Contents<a id=\"toc\"></a>\n",
    "* [Objectives](#obj)\n",
    "1. [Poisson Problem with Natural/Natural Boundary Conditions](#p1)\n",
    "1. [Alternative Problem Statement](#p2)\n",
    "1. [Galerkin's Method w/ Finite Element Basis Functions](#p3)\n",
    "1. [\"Line Source in Infinite Domain\"](#inf-case)\n",
    "   + [Data](#data-sym)\n",
    "   + [Finite Element Lagrange Basis Functions](#fembf-sym)\n",
    "   + [Results](#results-sym)\n",
    "1. [\"Line\" Source in a Finite Domain w/ Vacuum Boundary](#vac-case)\n",
    "   + [Data](#data-vac)\n",
    "   + [Finite Element Lagrange Basis Functions](#fembf-vac)\n",
    "   + [Results](#results-vac)\n",
    "---"
   ]
  },
  {
   "cell_type": "markdown",
   "metadata": {},
   "source": [
    "## [Objectives](#toc)<a id=\"obj\"></a>\n",
    "\n",
    " + Solve the 1-D, cylindrical coordinates, neutron diffusion from a line source problem using multiple regions."
   ]
  },
  {
   "cell_type": "markdown",
   "metadata": {},
   "source": [
    "## [Boundary-Value Problem Statement](#toc)<a id=\"p1\"></a>\n",
    "\n",
    "Solve the heterogeneous spatial neutron flux magnitude diffusion problem. Find $u_1:[0,R]\\subset\\Reals\\rightarrow\\Reals$, $u_2:[R,R_\\infty]\\subset\\Reals\\rightarrow\\Reals$\n",
    "such that:\n",
    "\n",
    "\\begin{align*}\n",
    " -\\frac{1}{r}\\bigl(-D_1\\, r\\, u_1'\\bigr)'(r) - \\Sigma_{a,1}\\,u_1(r) + s_0^{(1)} &= 0 \\quad\\quad \\forall \\quad\\quad r\\in\\ ]0,R[, \\\\\n",
    " -\\frac{1}{r}\\bigl(-D_2\\, r\\, u_2'\\bigr)'(r) - \\Sigma_{a,2}\\,u_2(r) + s_0^{(2)} &= 0 \\quad\\quad \\forall \\quad\\quad r\\in\\ ]R,R_\\infty[, \\\\\n",
    " q_{1,n}(0) &= 0, \\\\\n",
    " q_{2,n}(\\infty) &= q_{2,n\\infty}, \\\\\n",
    " u_1(R) &= u_2(R), \\\\\n",
    " q_{1,n}(R) &= q_{2,n}(R), \\\\\n",
    "\\end{align*}\n",
    "   \n",
    "Given data: diffusion coefficients, $D$, macroscopic absorption cross sections, $\\Sigma_a$, source $s_0$, boundary conditions of normal flux, and continuity conditions at the interfaces (both normal flux and solution). Where $q_{i,n}(r) = \\flux_i(r)\\cdot\\normal(r) = -D_i\\,u_i'(r)\\,\\rhat \\cdot \\normal(r) \\ \\forall \\ i=1,2$."
   ]
  },
  {
   "cell_type": "markdown",
   "metadata": {},
   "source": [
    "## [Alternative Boundary-Value Problem Statement](#toc)<a id=\"p2\"></a>\n",
    "\n",
    "Solve the equivalent heterogeneous spatial neutron flux magnitude diffusion problem. Find $u:[0,R_\\infty]\\subset\\Reals\\rightarrow\\Reals$ such that:\n",
    "\n",
    "\\begin{align*}\n",
    " -\\frac{1}{r}\\bigl(-D(r)\\, r\\, u'\\bigr)'(r) - \\Sigma_a(r)\\,u(r) + s_0(r) &= 0 \\quad\\quad \\forall \\quad\\quad r\\in\\ ]0,R_\\infty[, \\\\\n",
    " q_n(0) &= 0, \\\\\n",
    " q_n(R_\\infty) &= q_{nR_\\infty}, \\\\\n",
    "\\end{align*}\n",
    "   \n",
    "Given data: diffusion coefficient, $D(r)$, macroscopic absorption cross section, $\\Sigma_a(r)$, source $s_0(r)$, and normal flux boundary conditions. Where $q_n(r) = \\flux(r)\\cdot\\normal(r) = -D(r)\\,u_i'(r)\\,\\rhat \\cdot \\normal(r)$."
   ]
  },
  {
   "cell_type": "markdown",
   "metadata": {},
   "source": [
    "## [Galerkin Method w/ Finite Element Basis Functions](#toc)<a id=\"p3\"></a>\n",
    "\n",
    "The Galerkin weak formulation is as follows. Find $u \\in H^1\\!\\bigl([0,R_\\infty]\\bigr)$ so that \n",
    "\n",
    "\\begin{align*}\n",
    "\\bigl(-D\\, u',v'\\bigr) - \\bigl(\\Sigma_a\\,u,v\\bigr) + \\bigl(s_0,v\\bigr) + q_n(R_\\infty)\\,v(R_\\infty)\\,R_\\infty &= 0 \\quad\\quad \\forall \\quad\\quad v \\in H^1\\!\\bigl([0,R_\\infty]\\bigr), \n",
    "\\end{align*}\n",
    "\n",
    "where $H^1\\!\\bigl([0,R_\\infty]\\bigr) := \\bigl\\{ u:[0,R_\\infty]\\subset\\Reals\\rightarrow \\Reals \\mid \\bigl(u',u'\\bigr) + \\bigl(u,u\\bigr) < \\infty\\bigr\\}$. Because $u$ and $v$ belong to the same space of functions, this variational form is called the Galerkin's variational form. Choosing a finite dimensional subspace of $H^1\\!\\bigl([0,R_\\infty]\\bigr)$, say $V_N([0,R_\\infty]) := \\bigl\\{ u_N = \\sum\\limits_{i=1}^N\\,c_i\\,\\phi_i \\bigr\\} \\subset H^1\\!\\bigl([0,R_\\infty]\\bigr)$, where $\\{\\phi_i\\mid i=1\\ldots,N\\}$ is a basis of $V_N(0,R_\\infty)$, the coefficients $\\cvec := \\{c_i\\mid i=1,\\ldots,N\\}$ can be computed by solving the linear system of algebraic equations\n",
    "\n",
    "\\begin{equation*}\n",
    " \\overset{(N\\times N)}{\\Amtrx}\\,\\overset{(N\\times 1)}{\\cvec} = \\overset{(N\\times 1)}\\bvec ,\n",
    "\\end{equation*}\n",
    "\n",
    "where:\n",
    "  + $A_{i,j} = (D\\,\\phi'_j,\\phi'_i) + (\\Sigma_a\\,\\phi_j,\\phi_i) $\n",
    "  + $b_i = (s_0,\\phi_i) - q_{nR_\\infty}\\,\\phi_i(R_\\infty)\\,R_\\infty$\n",
    "  \n",
    "Note: this method is identical to the Rayleigh-Ritz method, therefore the approximate solution  $u_N = \\sum\\limits_{i=1}^N\\,c_i\\,\\phi_i$ is a minimizer of a particular norm (*i.e.* the energy norm). In addition, in cylindrical coordinates, the inner products read\n",
    "\n",
    "\\begin{align*}\n",
    "\\bigl(-D\\, u',v'\\bigr) &= \\int\\limits_0^{R_\\infty} D(r)\\, u'(r)\\,v'(r)\\, r\\,dr  \\\\\n",
    "\\bigl(\\Sigma_a\\,u,v\\bigr) &= \\int\\limits_0^{R_\\infty} \\Sigma_a(r)\\,u(r)\\,v(r)\\,r\\,dr \\\\\n",
    "\\bigl(s_0,v\\bigr) &= \\int\\limits_0^{R_\\infty} s_0(r)\\,v(r)\\,r\\,dr\n",
    "\\end{align*}"
   ]
  },
  {
   "cell_type": "markdown",
   "metadata": {},
   "source": [
    "## [\"Line Source in an Infinite Domain\"](#toc)<a id=\"inf-case\"></a>\n",
    "\n",
    "Consider an inner cylinder source with a very small radius surrounded by annular region with a large radius. "
   ]
  },
  {
   "cell_type": "code",
   "execution_count": 1,
   "metadata": {
    "ExecuteTime": {
     "end_time": "2022-04-23T00:16:40.458623Z",
     "start_time": "2022-04-23T00:16:38.743238Z"
    }
   },
   "outputs": [],
   "source": [
    "'''SI units'''\n",
    "from scipy import constants as unit\n",
    "unit.second = 1.0\n",
    "unit.meter = 1.0\n",
    "unit.cm = unit.centi*unit.meter\n",
    "unit.mm = unit.milli*unit.meter\n",
    "unit.um = unit.micro*unit.meter"
   ]
  },
  {
   "cell_type": "code",
   "execution_count": 2,
   "metadata": {
    "ExecuteTime": {
     "end_time": "2022-04-23T00:16:40.465051Z",
     "start_time": "2022-04-23T00:16:40.461657Z"
    }
   },
   "outputs": [],
   "source": [
    "'''Domain'''\n",
    "r_0 = 0*unit.cm \n",
    "r_R = .25*unit.cm\n",
    "r_oo = 30*unit.cm  # infinity"
   ]
  },
  {
   "cell_type": "code",
   "execution_count": 3,
   "metadata": {
    "ExecuteTime": {
     "end_time": "2022-04-23T00:16:40.472736Z",
     "start_time": "2022-04-23T00:16:40.467194Z"
    },
    "code_folding": [
     2
    ]
   },
   "outputs": [],
   "source": [
    "'''Domain'''\n",
    "\n",
    "def show_domain(r_R, r_oo):\n",
    "    import pyvista as pv\n",
    "    pv.set_plot_theme('paraview')\n",
    "\n",
    "    radius_i = r_R\n",
    "    radius_o = r_oo\n",
    "    height = 2*r_oo\n",
    "    outer = pv.Cylinder(center=(0,0,0), direction=(0,0,1), radius=radius_o, height=height)\n",
    "    inner = pv.Cylinder(center=(0,0,0), direction=(0,0,1), radius=radius_i, height=height)\n",
    "\n",
    "    plo = pv.Plotter(notebook=True, shape=(1,1), off_screen=True) \n",
    "    plo.subplot(0,0)\n",
    "    plo.add_mesh(outer, color='yellow', opacity=0.4,)\n",
    "    plo.add_mesh(inner, color='red', opacity=1)\n",
    "    plo.add_axes(xlabel='R', ylabel='Theta', zlabel='Z')\n",
    "    plo.screenshot('domain.png', window_size=(1000,400))\n",
    "    plo.camera.zoom(1.2)\n",
    "    cpos = plo.show(window_size=(1000, 400), auto_close=False)\n",
    "    return plo"
   ]
  },
  {
   "cell_type": "code",
   "execution_count": 4,
   "metadata": {
    "ExecuteTime": {
     "end_time": "2022-04-23T00:16:55.579396Z",
     "start_time": "2022-04-23T00:16:40.476623Z"
    }
   },
   "outputs": [
    {
     "data": {
      "application/vnd.jupyter.widget-view+json": {
       "model_id": "cee14b5e9023402ea6b03378ef166ec4",
       "version_major": 2,
       "version_minor": 0
      },
      "text/plain": [
       "ViewInteractiveWidget(height=400, layout=Layout(height='auto', width='100%'), width=1000)"
      ]
     },
     "metadata": {},
     "output_type": "display_data"
    }
   ],
   "source": [
    "plo = show_domain(r_R, r_oo)"
   ]
  },
  {
   "cell_type": "code",
   "execution_count": 5,
   "metadata": {
    "ExecuteTime": {
     "end_time": "2022-04-23T00:16:57.692801Z",
     "start_time": "2022-04-23T00:16:55.582081Z"
    }
   },
   "outputs": [
    {
     "data": {
      "image/png": "[encoded data removed]",
      "text/plain": [
       "<Figure size 7200x720 with 1 Axes>"
      ]
     },
     "metadata": {
      "needs_background": "light"
     },
     "output_type": "display_data"
    }
   ],
   "source": [
    "import matplotlib.pyplot as plt\n",
    "plt.figure(1, figsize=(100, 10))\n",
    "plt.imshow(plo.image)\n",
    "plt.show()"
   ]
  },
  {
   "cell_type": "markdown",
   "metadata": {},
   "source": [
    "### [Data](#toc)<a id=\"data-sym\"></a>\n",
    "\n",
    "Solve problem with parameter values:\n",
    "\n",
    "> + a, b, s\n",
    "> + $D_1$, $\\Sigma_{a1}$, $s_{01}$\n",
    "> + $D_2$, $\\Sigma_{a2}$, $s_{02}$\n",
    "> + $q_{nR_\\infty}$\n"
   ]
  },
  {
   "cell_type": "code",
   "execution_count": 6,
   "metadata": {
    "ExecuteTime": {
     "end_time": "2022-04-23T00:16:57.699691Z",
     "start_time": "2022-04-23T00:16:57.695289Z"
    }
   },
   "outputs": [],
   "source": [
    "'''Parameters and data'''\n",
    "import math\n",
    "\n",
    "# Source\n",
    "diffusion_coeff_1 = 1.5*unit.cm\n",
    "sigma_a_1 = 0.005/unit.cm\n",
    "source_1_prime = 1/unit.cm/unit.second\n",
    "area = math.pi*(r_R)**2\n",
    "source_1 = source_1_prime/area\n",
    "\n",
    "# Right side material\n",
    "diffusion_coeff_2 = 1.0*unit.cm\n",
    "sigma_a_2 = 0.01/unit.cm\n",
    "source_2 = 0./unit.cm**3/unit.second\n",
    "\n",
    "# normal flux\n",
    "q_noo = 0.0*unit.cm**2/unit.second"
   ]
  },
  {
   "cell_type": "code",
   "execution_count": 7,
   "metadata": {
    "ExecuteTime": {
     "end_time": "2022-04-23T00:16:57.705824Z",
     "start_time": "2022-04-23T00:16:57.701708Z"
    }
   },
   "outputs": [
    {
     "name": "stdout",
     "output_type": "stream",
     "text": [
      "s_1 [#/cm^3-s] =  5.092958178940652\n"
     ]
    }
   ],
   "source": [
    "print('s_1 [#/cm^3-s] = ', source_1*unit.cm**3*unit.second)"
   ]
  },
  {
   "cell_type": "code",
   "execution_count": 8,
   "metadata": {
    "ExecuteTime": {
     "end_time": "2022-04-23T00:16:57.711451Z",
     "start_time": "2022-04-23T00:16:57.707623Z"
    }
   },
   "outputs": [
    {
     "name": "stdout",
     "output_type": "stream",
     "text": [
      "L1 [cm] = 1.732e+01\n",
      "L2 [cm] = 1.000e+01\n"
     ]
    }
   ],
   "source": [
    "'''Diffusion lengths'''\n",
    "\n",
    "import math\n",
    "diffusion_length_1 = math.sqrt(diffusion_coeff_1/sigma_a_1)\n",
    "print('L1 [cm] = %2.3e'%(diffusion_length_1/unit.cm))\n",
    "diffusion_length_2 = math.sqrt(diffusion_coeff_2/sigma_a_2)\n",
    "print('L2 [cm] = %2.3e'%(diffusion_length_2/unit.cm))"
   ]
  },
  {
   "cell_type": "code",
   "execution_count": 9,
   "metadata": {
    "ExecuteTime": {
     "end_time": "2022-04-23T00:17:00.298045Z",
     "start_time": "2022-04-23T00:16:57.713662Z"
    }
   },
   "outputs": [
    {
     "data": {
      "image/png": "[encoded data removed]",
      "text/plain": [
       "<Figure size 1440x400 with 1 Axes>"
      ]
     },
     "metadata": {},
     "output_type": "display_data"
    }
   ],
   "source": [
    "'''Diffusion coefficient function'''\n",
    "from engy_5310.toolkit import TargetFunction   \n",
    "\n",
    "shape_pts = [(r_0, diffusion_coeff_1), (r_R, diffusion_coeff_1), \n",
    "             (r_R, diffusion_coeff_2), (r_oo, diffusion_coeff_2)]\n",
    "\n",
    "diffusion_coeff = TargetFunction(shape_pts, type='linear')\n",
    "  \n",
    "diffusion_coeff.plot(n_plot_pts=500, show_shape_pts=True, \n",
    "                title='Diffusion Coefficient', y_label=r'D(x) [cm]', x_label='r [cm]', \n",
    "                x_scale=1/unit.cm, y_scale=1/unit.cm,\n",
    "                ylim=[min(diffusion_coeff_1, diffusion_coeff_2)/unit.cm*.9, \n",
    "                      max(diffusion_coeff_1, diffusion_coeff_2)/unit.cm*1.1])"
   ]
  },
  {
   "cell_type": "code",
   "execution_count": 10,
   "metadata": {
    "ExecuteTime": {
     "end_time": "2022-04-23T00:17:00.601407Z",
     "start_time": "2022-04-23T00:17:00.303066Z"
    }
   },
   "outputs": [
    {
     "data": {
      "image/png": "[encoded data removed]",
      "text/plain": [
       "<Figure size 1440x400 with 1 Axes>"
      ]
     },
     "metadata": {},
     "output_type": "display_data"
    }
   ],
   "source": [
    "'''Absoption cross section function'''\n",
    "from engy_5310.toolkit import TargetFunction  \n",
    "\n",
    "shape_pts = [(r_0, sigma_a_1), (r_R, sigma_a_1), \n",
    "             (r_R, sigma_a_2), (r_oo, sigma_a_2)]\n",
    "\n",
    "sigma_a = TargetFunction(shape_pts, type='linear')\n",
    "  \n",
    "sigma_a.plot(n_plot_pts=500, show_shape_pts=True, \n",
    "             title='Absorption Cross Section', y_label=r'$\\Sigma_a(x)$ [1/cm]', x_label='r [cm]', \n",
    "             x_scale=1/unit.cm, y_scale=unit.cm,\n",
    "             ylim=[min(sigma_a_1, sigma_a_2)*unit.cm*.9, \n",
    "                   max(sigma_a_1, sigma_a_2)*unit.cm*1.1])"
   ]
  },
  {
   "cell_type": "code",
   "execution_count": 11,
   "metadata": {
    "ExecuteTime": {
     "end_time": "2022-04-23T00:17:00.765819Z",
     "start_time": "2022-04-23T00:17:00.603586Z"
    }
   },
   "outputs": [
    {
     "data": {
      "image/png": "[encoded data removed]",
      "text/plain": [
       "<Figure size 1440x400 with 1 Axes>"
      ]
     },
     "metadata": {},
     "output_type": "display_data"
    }
   ],
   "source": [
    "'''Source function'''\n",
    "from engy_5310.toolkit import TargetFunction  \n",
    "\n",
    "shape_pts = [(r_0, source_1), (r_R, source_1), \n",
    "             (r_R, source_2), (r_oo, source_2)]\n",
    "\n",
    "source = TargetFunction(shape_pts, type='linear')\n",
    "  \n",
    "source.plot(n_plot_pts=500, show_shape_pts=True, \n",
    "             title='Source', y_label=r'$s_0(x)$ [1/(cm^3 s)]', x_label='r [cm]', \n",
    "             x_scale=1/unit.cm, y_scale=unit.cm**3*unit.second,\n",
    "             ylim=[min(source_1, source_2)*unit.cm**3*unit.second*.9, \n",
    "                   max(source_1, source_2)*unit.cm**3*unit.second*1.1])"
   ]
  },
  {
   "cell_type": "markdown",
   "metadata": {},
   "source": [
    "### [Finite Element Basis Functions](#toc)<a id=\"fembf-sym\"></a>\n",
    "\n",
    "Specify basis functions distribution on the material domain and degree."
   ]
  },
  {
   "cell_type": "code",
   "execution_count": null,
   "metadata": {
    "ExecuteTime": {
     "start_time": "2022-04-23T00:16:38.775Z"
    }
   },
   "outputs": [],
   "source": [
    "'''Build basis functions'''\n",
    "from engy_5310.toolkit import LagrangeFEMBasis \n",
    "\n",
    "degree = [2,2,2]\n",
    "n_elem = [10,10,25]\n",
    "\n",
    "femlb = LagrangeFEMBasis(degree=degree, n_elem=n_elem, x_partition=[r_0, r_R, r_R+2*unit.cm, r_oo])\n",
    "femlb.plot(n_plot_pts=600, n_legend_cols=15)"
   ]
  },
  {
   "cell_type": "markdown",
   "metadata": {},
   "source": [
    "  + $A_{i,j} = (D\\,\\phi'_j,\\phi'_i) + (\\Sigma_a\\,\\phi_j,\\phi_i) $"
   ]
  },
  {
   "cell_type": "code",
   "execution_count": null,
   "metadata": {
    "ExecuteTime": {
     "start_time": "2022-04-23T00:16:38.782Z"
    }
   },
   "outputs": [],
   "source": [
    "'''Build the matrix of coefficients of the linear system'''\n",
    "\n",
    "d_mtrx = femlb.inner_product_matrix(diffusion_coeff, \"u'\", \"v'\", coord_sys='cylindrical')\n",
    "a_mtrx = femlb.inner_product_matrix(sigma_a, 'u', 'v', coord_sys='cylindrical')\n",
    "\n",
    "a_mtrx = d_mtrx + a_mtrx"
   ]
  },
  {
   "cell_type": "code",
   "execution_count": null,
   "metadata": {
    "ExecuteTime": {
     "start_time": "2022-04-23T00:16:38.784Z"
    }
   },
   "outputs": [],
   "source": [
    "try:    \n",
    "    from engy_5310.toolkit import matrix_rank\n",
    "except ModuleNotFoundError:\n",
    "    assert False, 'You need to provide your own code here. Bailing out.'\n",
    "    \n",
    "if matrix_rank(a_mtrx, tol=1e-6) == min(a_mtrx.shape):\n",
    "    print('matrix is full rank.')\n",
    "else:\n",
    "    print('matrix is rank deficient.')\n",
    "\n",
    "import numpy as np\n",
    "print(np.linalg.matrix_rank(a_mtrx), a_mtrx.shape)"
   ]
  },
  {
   "cell_type": "markdown",
   "metadata": {},
   "source": [
    " + $b_i = (s_0,\\phi_i) - q_{nR_\\infty}\\,\\phi_i(R_\\infty)\\,R_\\infty$"
   ]
  },
  {
   "cell_type": "code",
   "execution_count": null,
   "metadata": {
    "ExecuteTime": {
     "start_time": "2022-04-23T00:16:38.790Z"
    }
   },
   "outputs": [],
   "source": [
    "'''Build the load vector'''\n",
    "\n",
    "s_vec = femlb.inner_product_vector(source, 'v', coord_sys='cylindrical')\n",
    "qnoo_vec = femlb.boundary_inner_product_vector('right', lambda x: q_noo * r_oo, 'v')\n",
    "\n",
    "b_vec = s_vec - qnoo_vec"
   ]
  },
  {
   "cell_type": "code",
   "execution_count": null,
   "metadata": {
    "ExecuteTime": {
     "start_time": "2022-04-23T00:16:38.792Z"
    }
   },
   "outputs": [],
   "source": [
    "'''Compute optimal coefficient eigenvectors'''\n",
    "import numpy as np\n",
    "c_star_vec = np.linalg.solve(a_mtrx, b_vec)"
   ]
  },
  {
   "cell_type": "code",
   "execution_count": null,
   "metadata": {
    "ExecuteTime": {
     "start_time": "2022-04-23T00:16:38.794Z"
    },
    "code_folding": [
     2
    ]
   },
   "outputs": [],
   "source": [
    "'''Build the best approximation function in V_N'''\n",
    "\n",
    "def u_star(x):\n",
    "    u = femlb.evaluation_matrix(x)@c_star_vec\n",
    "    return u"
   ]
  },
  {
   "cell_type": "code",
   "execution_count": null,
   "metadata": {
    "ExecuteTime": {
     "start_time": "2022-04-23T00:16:38.796Z"
    },
    "code_folding": [
     2
    ]
   },
   "outputs": [],
   "source": [
    "'''Build the best approximation function in V_N'''\n",
    "\n",
    "def u_prime_star(x):\n",
    "    u_prime = femlb.evaluation_matrix(x, derivative=True)@c_star_vec\n",
    "    return u_prime"
   ]
  },
  {
   "cell_type": "markdown",
   "metadata": {},
   "source": [
    "### [Results](#toc)<a id=\"results-sym\"></a>\n",
    "\n",
    "Much can be exercised in terms of results by varying the parameters of the problem."
   ]
  },
  {
   "cell_type": "code",
   "execution_count": null,
   "metadata": {
    "ExecuteTime": {
     "start_time": "2022-04-23T00:16:38.804Z"
    },
    "code_folding": [
     2
    ]
   },
   "outputs": [],
   "source": [
    "'''Plot solution'''\n",
    "\n",
    "def plot_solution(x, u_values, q_values, \n",
    "                  u_legend='Solution w/ Neumann BC', \n",
    "                  q_legend='Flux w/ Neumann BC'):\n",
    "    \n",
    "    import matplotlib.pyplot as plt\n",
    "    (fig, ax1) = plt.subplots(1, figsize=(14, 6))\n",
    "\n",
    "    ax1.plot(x/unit.cm, u_values*unit.cm**2*unit.second, 'r-', label=u_legend)\n",
    "\n",
    "    ax1.set_xlabel(r'$r$ [cm]', fontsize=18)\n",
    "    ax1.set_ylabel(r'$u_h(x)$', fontsize=18, color='red')\n",
    "    ax1.tick_params(axis='y', labelcolor='red', labelsize=14)\n",
    "    ax1.tick_params(axis='x', labelsize=14)\n",
    "    ax1.legend(loc='best', fontsize=12)\n",
    "    #ax1.set_ylim(0,1)\n",
    "    ax1.grid(True)\n",
    "\n",
    "    # create a twin x axis to be shared\n",
    "    ax2 = ax1.twinx()\n",
    "\n",
    "    ax2.plot(x/unit.cm, q_values*unit.cm**2*unit.second, 'b-', label=q_legend)\n",
    "\n",
    "    ax2.set_ylabel(r\"$q_h(x)$\", fontsize=18, color='blue')\n",
    "    ax2.tick_params(axis='y', labelcolor='blue', labelsize=14)\n",
    "    ax2.legend(loc='center right', fontsize=12)\n",
    "    #ax2.set_ylim(0,2)\n",
    "    #ax2.grid(True)\n",
    "\n",
    "    plt.title(r'Galerkin Method with Finite Element Lagrange Basis Functions (n='+str(len(femlb.basis_func_list))+')', fontsize=20)\n",
    "    fig.tight_layout()  # otherwise the right y-label is slightly clipped\n",
    "    plt.show()\n",
    "    print('')"
   ]
  },
  {
   "cell_type": "code",
   "execution_count": null,
   "metadata": {
    "ExecuteTime": {
     "start_time": "2022-04-23T00:16:38.806Z"
    }
   },
   "outputs": [],
   "source": [
    "n_pts = 500\n",
    "x = np.linspace(r_0, r_oo, n_pts)\n",
    "u_values = u_star(x)\n",
    "q_values = -diffusion_coeff(x)*u_prime_star(x)\n",
    "\n",
    "plot_solution(x, u_values, q_values)"
   ]
  },
  {
   "cell_type": "code",
   "execution_count": null,
   "metadata": {
    "ExecuteTime": {
     "start_time": "2022-04-23T00:16:38.807Z"
    }
   },
   "outputs": [],
   "source": [
    "'''Rayleigh-Ritz solution evaluated at the boundaries'''\n",
    "\n",
    "np.set_printoptions(precision=5)\n",
    "print('u^*_N(0) [cm^2/s]= ', u_star(0)*unit.cm**2*unit.second, '  u^*_N(Roo) [cm^2/s]= ', u_star(r_oo)*unit.cm**2*unit.second)\n",
    "print(\"u^*'_N(0) [cm/s]= \", u_prime_star(0)*unit.cm*unit.second, \" u^*'_N(Roo) [cm/s]= \", u_prime_star(r_oo)*unit.cm*unit.second)\n",
    "print('u^*_N(0) [cm^2/s]= ', u_star(0.0)*unit.cm**2*unit.second)\n",
    "print(\"u^*'_N(0) [cm/s]= \", u_prime_star(0.0)*unit.cm*unit.second)"
   ]
  },
  {
   "cell_type": "markdown",
   "metadata": {},
   "source": [
    "For an infinitesimal line source (class notes), there is a singularity at the origin: $\\phi_{1} (r) ?= \\frac{\\dot{s}_0}{4\\pi\\,D_1\\,r}\\,e^{\\frac{-r}{L_1}}$ where $s'_0 = \\lim_{\\delta\\rightarrow 0^+} \\delta^2\\,s_0^{(1)}$ with $\\delta$ as the radius of the source."
   ]
  },
  {
   "cell_type": "markdown",
   "metadata": {},
   "source": [
    "For an infinitesimal line source, the limit obtained is $\\bigl(4\\pi\\,r^2\\,q_{1}(r)\\bigr)\\bigr|_0 = \\dot{s}_0$."
   ]
  },
  {
   "cell_type": "code",
   "execution_count": null,
   "metadata": {
    "ExecuteTime": {
     "start_time": "2022-04-23T00:16:38.820Z"
    }
   },
   "outputs": [],
   "source": [
    "'''Error on 4\\pi r^2 q_n1(0) for a point source'''\n",
    "\n",
    "import math\n",
    "s1_dot_limit = source(r_R*.99) * r_R**3 \n",
    "print('(s_dot-s_dot_limit relative error [%]= ', abs(-(-diffusion_coeff_1*u_prime_star(r_R))*4*math.pi*r_R**2-s1_dot_limit/s1_dot_limit*100))"
   ]
  },
  {
   "cell_type": "markdown",
   "metadata": {},
   "source": [
    "This shows that the singular case is not approached by the symmetry boundary condition."
   ]
  },
  {
   "cell_type": "code",
   "execution_count": null,
   "metadata": {
    "ExecuteTime": {
     "start_time": "2022-04-23T00:16:38.826Z"
    }
   },
   "outputs": [],
   "source": [
    "'''Flux at origin boundary'''\n",
    "\n",
    "print('q_n0 given    [cm2/s]= ', 0)\n",
    "print('q_n0 computed [cm2/s]= ', -(-diffusion_coeff(0)*u_prime_star(0))*unit.cm**2*unit.second)\n",
    "#print('flux error [%]= ',(diffusion_coeff(x_a)*u_prime_star(x_a) - q_na)/q_na*100*unit.cm**2*unit.second)"
   ]
  },
  {
   "cell_type": "code",
   "execution_count": null,
   "metadata": {
    "ExecuteTime": {
     "start_time": "2022-04-23T00:16:38.828Z"
    }
   },
   "outputs": [],
   "source": [
    "'''Flux at right boundary'''\n",
    "\n",
    "print('q_noo given    [cm^2/s]= ', q_noo)\n",
    "print('q_nb computed [cm^2/s]= ', -diffusion_coeff(r_oo)*u_prime_star(r_oo)*unit.cm**2*unit.second)\n",
    "#print('flux error [%]= ',(-diffusion_coeff(x_b)*u_prime_star(x_b) - q_nb)/q_nb*100*unit.cm**2*unit.second)"
   ]
  },
  {
   "cell_type": "code",
   "execution_count": null,
   "metadata": {
    "ExecuteTime": {
     "start_time": "2022-04-23T00:16:38.830Z"
    },
    "scrolled": false
   },
   "outputs": [],
   "source": [
    "x_vec = np.linspace(0, r_oo, 30)\n",
    "u_n_vec = u_star(x_vec)*unit.cm**2*unit.second\n",
    "q_N_vec = -diffusion_coeff(x_vec)*u_prime_star(x_vec)*unit.cm**2*unit.second\n",
    "\n",
    "print('r [cm]        u_n [#/cm^2/s]    q_N [#/cm^2/s]')\n",
    "for (x, u_n, q_N) in zip(x_vec, u_n_vec, q_N_vec):\n",
    "    print('%+2.5e   %+2.5e     %+2.5e'%(x/unit.cm, u_n, q_N))"
   ]
  },
  {
   "cell_type": "code",
   "execution_count": null,
   "metadata": {
    "ExecuteTime": {
     "start_time": "2022-04-23T00:16:38.832Z"
    }
   },
   "outputs": [],
   "source": [
    "x_vec/unit.cm"
   ]
  },
  {
   "cell_type": "code",
   "execution_count": null,
   "metadata": {
    "ExecuteTime": {
     "start_time": "2022-04-23T00:16:38.834Z"
    }
   },
   "outputs": [],
   "source": [
    "u_n_vec"
   ]
  },
  {
   "cell_type": "code",
   "execution_count": null,
   "metadata": {
    "ExecuteTime": {
     "start_time": "2022-04-23T00:16:38.835Z"
    }
   },
   "outputs": [],
   "source": [
    "q_N_vec"
   ]
  },
  {
   "cell_type": "code",
   "execution_count": null,
   "metadata": {
    "ExecuteTime": {
     "start_time": "2022-04-23T00:16:38.837Z"
    }
   },
   "outputs": [],
   "source": [
    "'''Save text file with values'''\n",
    "\n",
    "x_vec = np.linspace(0, r_oo, 5000)\n",
    "u_n_vec = u_star(x_vec)*unit.cm**2*unit.second\n",
    "q_N_vec = -diffusion_coeff(x_vec)*u_prime_star(x_vec)*unit.cm**2*unit.second\n",
    "\n",
    "np.savetxt('data/line-source-inf.txt', (x_vec/unit.cm, u_n_vec, q_N_vec), delimiter=' ', fmt='%2.6e') \n",
    "\n",
    "# For reading do: (x,u,q) = np.loadtxt('line-source-inf.txt')"
   ]
  },
  {
   "cell_type": "markdown",
   "metadata": {},
   "source": [
    "## [\"Cylindrical Source in a Finite Domain w/ Vacuum Boundary\"](#toc)<a id=\"vac-case\"></a>\n",
    "\n",
    "Consider an inner cylinder source with a small radius surrounded by annular region with a finite radius exposed to vacuum. "
   ]
  },
  {
   "cell_type": "markdown",
   "metadata": {},
   "source": [
    "The boundary normal flux boundary conditions are as follows:\n",
    "\n",
    "\\begin{align*}\n",
    " q_n(0) &= 0, \\\\\n",
    " q_n(R_b) &= \\frac{u}{2}.\n",
    "\\end{align*}"
   ]
  },
  {
   "cell_type": "markdown",
   "metadata": {},
   "source": [
    "### [Data](#toc)<a id=\"data-vac\"></a>\n",
    "\n",
    "Solve problem with parameter values:\n",
    "\n",
    "> + a, b, s\n",
    "> + $D_1$, $\\Sigma_{a1}$, $s_{01}$\n",
    "> + $D_2$, $\\Sigma_{a2}$, $s_{02}$\n"
   ]
  },
  {
   "cell_type": "code",
   "execution_count": null,
   "metadata": {
    "ExecuteTime": {
     "start_time": "2022-04-23T00:16:38.856Z"
    }
   },
   "outputs": [],
   "source": [
    "'''SI units'''\n",
    "from scipy import constants as unit\n",
    "unit.second = 1.0\n",
    "unit.meter = 1.0\n",
    "unit.cm = unit.centi*unit.meter\n",
    "unit.mm = unit.milli*unit.meter\n",
    "unit.um = unit.micro*unit.meter"
   ]
  },
  {
   "cell_type": "code",
   "execution_count": null,
   "metadata": {
    "ExecuteTime": {
     "start_time": "2022-04-23T00:16:38.857Z"
    }
   },
   "outputs": [],
   "source": [
    "'''Domain'''\n",
    "r_0 = 0*unit.cm \n",
    "r_R = .25*unit.cm\n",
    "r_b = 10*unit.cm"
   ]
  },
  {
   "cell_type": "code",
   "execution_count": null,
   "metadata": {
    "ExecuteTime": {
     "start_time": "2022-04-23T00:16:38.860Z"
    }
   },
   "outputs": [],
   "source": [
    "plo = show_domain(r_R, r_b)"
   ]
  },
  {
   "cell_type": "code",
   "execution_count": null,
   "metadata": {
    "ExecuteTime": {
     "start_time": "2022-04-23T00:16:38.862Z"
    }
   },
   "outputs": [],
   "source": [
    "import matplotlib.pyplot as plt\n",
    "plt.figure(1, figsize=(100, 10))\n",
    "plt.imshow(plo.image)\n",
    "plt.show()"
   ]
  },
  {
   "cell_type": "code",
   "execution_count": null,
   "metadata": {
    "ExecuteTime": {
     "start_time": "2022-04-23T00:16:38.863Z"
    }
   },
   "outputs": [],
   "source": [
    "'''Parameters and data'''\n",
    "\n",
    "# Source\n",
    "diffusion_coeff_1 = 1.5*unit.cm\n",
    "sigma_a_1 = 0.005/unit.cm\n",
    "source_1_prime = 1/unit.cm/unit.second\n",
    "area = math.pi*(r_R)**2\n",
    "source_1 = source_1_prime/area\n",
    "\n",
    "# Right side material\n",
    "diffusion_coeff_2 = 1.0*unit.cm\n",
    "sigma_a_2 = 0.01/unit.cm\n",
    "source_2 = 0./unit.cm**3/unit.second"
   ]
  },
  {
   "cell_type": "code",
   "execution_count": null,
   "metadata": {
    "ExecuteTime": {
     "start_time": "2022-04-23T00:16:38.865Z"
    }
   },
   "outputs": [],
   "source": [
    "print('s_1 [#/cm^3-s] = ', source_1*unit.cm**3*unit.second)"
   ]
  },
  {
   "cell_type": "code",
   "execution_count": null,
   "metadata": {
    "ExecuteTime": {
     "start_time": "2022-04-23T00:16:38.867Z"
    }
   },
   "outputs": [],
   "source": [
    "'''Diffusion lengths'''\n",
    "\n",
    "import math\n",
    "diffusion_length_1 = math.sqrt(diffusion_coeff_1/sigma_a_1)\n",
    "print('L1 [cm] = %2.3e'%(diffusion_length_1/unit.cm))\n",
    "diffusion_length_2 = math.sqrt(diffusion_coeff_2/sigma_a_2)\n",
    "print('L2 [cm] = %2.3e'%(diffusion_length_2/unit.cm))"
   ]
  },
  {
   "cell_type": "code",
   "execution_count": null,
   "metadata": {
    "ExecuteTime": {
     "start_time": "2022-04-23T00:16:38.869Z"
    }
   },
   "outputs": [],
   "source": [
    "'''Diffusion coefficient function'''\n",
    "from engy_5310.toolkit import TargetFunction   \n",
    "\n",
    "shape_pts = [(r_0, diffusion_coeff_1), (r_R, diffusion_coeff_1), \n",
    "             (r_R, diffusion_coeff_2), (r_b, diffusion_coeff_2)]\n",
    "\n",
    "diffusion_coeff = TargetFunction(shape_pts, type='linear')\n",
    "  \n",
    "diffusion_coeff.plot(n_plot_pts=500, show_shape_pts=True, \n",
    "                title='Diffusion Coefficient', y_label=r'D(x) [cm]', x_label='r [cm]', \n",
    "                x_scale=1/unit.cm, y_scale=1/unit.cm,\n",
    "                ylim=[min(diffusion_coeff_1, diffusion_coeff_2)/unit.cm*.9, \n",
    "                      max(diffusion_coeff_1, diffusion_coeff_2)/unit.cm*1.1])"
   ]
  },
  {
   "cell_type": "code",
   "execution_count": null,
   "metadata": {
    "ExecuteTime": {
     "start_time": "2022-04-23T00:16:38.871Z"
    }
   },
   "outputs": [],
   "source": [
    "'''Absoption cross section function'''\n",
    "from engy_5310.toolkit import TargetFunction  \n",
    "\n",
    "shape_pts = [(r_0, sigma_a_1), (r_R, sigma_a_1), \n",
    "             (r_R, sigma_a_2), (r_b, sigma_a_2)]\n",
    "\n",
    "sigma_a = TargetFunction(shape_pts, type='linear')\n",
    "  \n",
    "sigma_a.plot(n_plot_pts=500, show_shape_pts=True, \n",
    "             title='Absorption Cross Section', y_label=r'$\\Sigma_a(x)$ [1/cm]', x_label='r [cm]', \n",
    "             x_scale=1/unit.cm, y_scale=unit.cm,\n",
    "             ylim=[min(sigma_a_1, sigma_a_2)*unit.cm*.9, \n",
    "                   max(sigma_a_1, sigma_a_2)*unit.cm*1.1])"
   ]
  },
  {
   "cell_type": "code",
   "execution_count": null,
   "metadata": {
    "ExecuteTime": {
     "start_time": "2022-04-23T00:16:38.873Z"
    }
   },
   "outputs": [],
   "source": [
    "'''Source function'''\n",
    "from engy_5310.toolkit import TargetFunction  \n",
    "\n",
    "shape_pts = [(r_0, source_1), (r_R, source_1), \n",
    "             (r_R, source_2), (r_b, source_2)]\n",
    "\n",
    "source = TargetFunction(shape_pts, type='linear')\n",
    "  \n",
    "source.plot(n_plot_pts=500, show_shape_pts=True, \n",
    "             title='Source', y_label=r'$s_0(x)$ [1/(cm^3 s)]', x_label='r [cm]', \n",
    "             x_scale=1/unit.cm, y_scale=unit.cm**3*unit.second,\n",
    "             ylim=[min(source_1, source_2)*unit.cm**3*unit.second*.9, \n",
    "                   max(source_1, source_2)*unit.cm**3*unit.second*1.1])"
   ]
  },
  {
   "cell_type": "markdown",
   "metadata": {},
   "source": [
    "### [Finite Element Basis Functions](#toc)<a id=\"fembf-vac\"></a>\n",
    "\n",
    "Specify basis functions distribution on the material domain and degree."
   ]
  },
  {
   "cell_type": "code",
   "execution_count": null,
   "metadata": {
    "ExecuteTime": {
     "start_time": "2022-04-23T00:16:38.880Z"
    }
   },
   "outputs": [],
   "source": [
    "'''Build basis functions'''\n",
    "from engy_5310.toolkit import LagrangeFEMBasis \n",
    "\n",
    "degree = [2,2,2]\n",
    "n_elem = [10,10,10] # make sure to use an odd number of element in the central source domain\n",
    "\n",
    "femlb = LagrangeFEMBasis(degree=degree, n_elem=n_elem, x_partition=[r_0, r_R, r_R+2*unit.cm, r_b])\n",
    "femlb.plot(n_plot_pts=500, n_legend_cols=15)"
   ]
  },
  {
   "cell_type": "markdown",
   "metadata": {},
   "source": [
    "  + $A_{i,j} = \\bigl(D\\,\\phi'_j,\\phi'_i\\bigr) + \\bigl(\\Sigma_a\\,\\phi_j,\\phi_i\\bigr) + 1/2\\,\\phi_j(R_b)\\,\\phi_i(R_b)\\,R_b $"
   ]
  },
  {
   "cell_type": "code",
   "execution_count": null,
   "metadata": {
    "ExecuteTime": {
     "start_time": "2022-04-23T00:16:38.886Z"
    }
   },
   "outputs": [],
   "source": [
    "'''Build the matrix of coefficients of the linear system'''\n",
    "\n",
    "d_mtrx = femlb.inner_product_matrix(diffusion_coeff, \"u'\", \"v'\", coord_sys='cylindrical')\n",
    "sa_mtrx = femlb.inner_product_matrix(sigma_a, 'u', 'v', coord_sys='cylindrical')\n",
    "\n",
    "r_mtrx_b = femlb.boundary_inner_product_matrix('right', lambda x:1/2*r_b, 'u', 'v')\n",
    "\n",
    "a_mtrx = d_mtrx + sa_mtrx + r_mtrx_b"
   ]
  },
  {
   "cell_type": "code",
   "execution_count": null,
   "metadata": {
    "ExecuteTime": {
     "start_time": "2022-04-23T00:16:38.888Z"
    }
   },
   "outputs": [],
   "source": [
    "try:    \n",
    "    from engy_5310.toolkit import matrix_rank\n",
    "except ModuleNotFoundError:\n",
    "    assert False, 'You need to provide your own code here. Bailing out.'\n",
    "    \n",
    "if matrix_rank(a_mtrx,tol=1e-6) == min(a_mtrx.shape):\n",
    "    print('matrix is full rank.')\n",
    "else:\n",
    "    print('matrix is rank deficient.')"
   ]
  },
  {
   "cell_type": "markdown",
   "metadata": {},
   "source": [
    " + $b_i = \\bigl(s_0,\\phi_i\\bigr)$"
   ]
  },
  {
   "cell_type": "code",
   "execution_count": null,
   "metadata": {
    "ExecuteTime": {
     "start_time": "2022-04-23T00:16:38.894Z"
    }
   },
   "outputs": [],
   "source": [
    "'''Build the load vector'''\n",
    "\n",
    "s_vec = femlb.inner_product_vector(source, 'v', coord_sys='cylindrical')\n",
    "\n",
    "b_vec = s_vec"
   ]
  },
  {
   "cell_type": "code",
   "execution_count": null,
   "metadata": {
    "ExecuteTime": {
     "start_time": "2022-04-23T00:16:38.895Z"
    }
   },
   "outputs": [],
   "source": [
    "'''Compute optimal coefficient eigenvectors'''\n",
    "import numpy as np\n",
    "c_star_vec = np.linalg.solve(a_mtrx, b_vec)"
   ]
  },
  {
   "cell_type": "code",
   "execution_count": null,
   "metadata": {
    "ExecuteTime": {
     "start_time": "2022-04-23T00:16:38.897Z"
    },
    "code_folding": [
     2
    ]
   },
   "outputs": [],
   "source": [
    "'''Build the best approximation function in V_N'''\n",
    "\n",
    "def u_star(x):\n",
    "    u = femlb.evaluation_matrix(x)@c_star_vec\n",
    "    return u"
   ]
  },
  {
   "cell_type": "code",
   "execution_count": null,
   "metadata": {
    "ExecuteTime": {
     "start_time": "2022-04-23T00:16:38.898Z"
    },
    "code_folding": [
     2
    ]
   },
   "outputs": [],
   "source": [
    "'''Build the best approximation function in V_N'''\n",
    "\n",
    "def u_prime_star(x):\n",
    "    u_prime = femlb.evaluation_matrix(x, derivative=True)@c_star_vec\n",
    "    return u_prime"
   ]
  },
  {
   "cell_type": "markdown",
   "metadata": {},
   "source": [
    "### [Results](#toc)<a id=\"results-vac\"></a>\n",
    "\n",
    "Much can be exercised in terms of results by varying the parameters of the problem."
   ]
  },
  {
   "cell_type": "code",
   "execution_count": null,
   "metadata": {
    "ExecuteTime": {
     "start_time": "2022-04-23T00:16:38.905Z"
    }
   },
   "outputs": [],
   "source": [
    "n_pts = 500\n",
    "x = np.linspace(r_0, r_b, n_pts)\n",
    "u_values = u_star(x)\n",
    "q_values = -diffusion_coeff(x)*u_prime_star(x)\n",
    "\n",
    "plot_solution(x, u_values, q_values, u_legend='Solution w/ Vacuum BC', q_legend='Flux w/ Vacuum BC')"
   ]
  },
  {
   "cell_type": "code",
   "execution_count": null,
   "metadata": {
    "ExecuteTime": {
     "start_time": "2022-04-23T00:16:38.906Z"
    }
   },
   "outputs": [],
   "source": [
    "'''Rayleigh-Ritz solution evaluated at the boundaries'''\n",
    "\n",
    "np.set_printoptions(precision=5)\n",
    "print('u^*_N(0) [cm^2/s]= ', u_star(0)*unit.cm**2*unit.second, '  u^*_N(Rb) [cm^2/s]= ', u_star(r_b)*unit.cm**2*unit.second)\n",
    "print(\"u^*'_N(0) [cm/s]= \", u_prime_star(0)*unit.cm*unit.second, \" u^*'_N(Rb) [cm/s]= \", u_prime_star(r_b)*unit.cm*unit.second)\n",
    "print('u^*_N(0) [cm^2/s]= ', u_star(0.0)*unit.cm**2*unit.second)\n",
    "print(\"u^*'_N(0) [cm/s]= \", u_prime_star(0.0)*unit.cm*unit.second)"
   ]
  },
  {
   "cell_type": "code",
   "execution_count": null,
   "metadata": {
    "ExecuteTime": {
     "start_time": "2022-04-23T00:16:38.908Z"
    }
   },
   "outputs": [],
   "source": [
    "'''Flux at origin boundary'''\n",
    "\n",
    "print('q_n0 given    [cm2/s]= ', 0)\n",
    "print('q_n0 computed [cm2/s]= ', -(-diffusion_coeff(0)*u_prime_star(0))*unit.cm**2*unit.second)\n",
    "#print('flux error [%]= ',(diffusion_coeff(x_a)*u_prime_star(x_a) - q_na)/q_na*100*unit.cm**2*unit.second)"
   ]
  },
  {
   "cell_type": "code",
   "execution_count": null,
   "metadata": {
    "ExecuteTime": {
     "start_time": "2022-04-23T00:16:38.909Z"
    }
   },
   "outputs": [],
   "source": [
    "'''Flux at right boundary'''\n",
    "\n",
    "print('q_nb given    [cm^2/s]= ', 1/2*u_star(r_b)*unit.cm**2*unit.second)\n",
    "print('q_nb computed [cm^2/s]= ', -diffusion_coeff(r_b)*u_prime_star(r_b)*unit.cm**2*unit.second)\n",
    "#print('flux error [%]= ',(-diffusion_coeff(x_b)*u_prime_star(x_b) - q_nb)/q_nb*100*unit.cm**2*unit.second)"
   ]
  },
  {
   "cell_type": "code",
   "execution_count": null,
   "metadata": {
    "ExecuteTime": {
     "start_time": "2022-04-23T00:16:38.911Z"
    },
    "scrolled": true
   },
   "outputs": [],
   "source": [
    "x_vec = np.linspace(0, r_b, 30)\n",
    "u_n_vec = u_star(x_vec)*unit.cm**2*unit.second\n",
    "q_N_vec = -diffusion_coeff(x_vec)*u_prime_star(x_vec)*unit.cm**2*unit.second\n",
    "\n",
    "print('r [cm]        u_n [#/cm^2/s]    q_N [#/cm^2/s]')\n",
    "for (x, u_n, q_N) in zip(x_vec, u_n_vec, q_N_vec):\n",
    "    print('%+2.5e   %+2.5e     %+2.5e'%(x/unit.cm, u_n, q_N))"
   ]
  },
  {
   "cell_type": "code",
   "execution_count": null,
   "metadata": {
    "ExecuteTime": {
     "start_time": "2022-04-23T00:16:38.912Z"
    }
   },
   "outputs": [],
   "source": [
    "x_vec/unit.cm"
   ]
  },
  {
   "cell_type": "code",
   "execution_count": null,
   "metadata": {
    "ExecuteTime": {
     "start_time": "2022-04-23T00:16:38.914Z"
    }
   },
   "outputs": [],
   "source": [
    "u_n_vec"
   ]
  },
  {
   "cell_type": "code",
   "execution_count": null,
   "metadata": {
    "ExecuteTime": {
     "start_time": "2022-04-23T00:16:38.916Z"
    }
   },
   "outputs": [],
   "source": [
    "q_N_vec"
   ]
  },
  {
   "cell_type": "code",
   "execution_count": null,
   "metadata": {},
   "outputs": [],
   "source": []
  }
 ],
 "metadata": {
  "kernelspec": {
   "display_name": "Python 3 (ipykernel)",
   "language": "python",
   "name": "python3"
  },
  "language_info": {
   "codemirror_mode": {
    "name": "ipython",
    "version": 3
   },
   "file_extension": ".py",
   "mimetype": "text/x-python",
   "name": "python",
   "nbconvert_exporter": "python",
   "pygments_lexer": "ipython3",
   "version": "3.8.13"
  },
  "latex_envs": {
   "LaTeX_envs_menu_present": true,
   "autoclose": false,
   "autocomplete": true,
   "bibliofile": "biblio.bib",
   "cite_by": "apalike",
   "current_citInitial": 1,
   "eqLabelWithNumbers": true,
   "eqNumInitial": 1,
   "hotkeys": {
    "equation": "Ctrl-E",
    "itemize": "Ctrl-I"
   },
   "labels_anchors": false,
   "latex_user_defs": false,
   "report_style_numbering": false,
   "user_envs_cfg": false
  }
 },
 "nbformat": 4,
 "nbformat_minor": 2
}
